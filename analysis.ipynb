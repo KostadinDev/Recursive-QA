{
 "cells": [
  {
   "cell_type": "code",
   "execution_count": 111,
   "outputs": [
    {
     "name": "stderr",
     "output_type": "stream",
     "text": [
      "[nltk_data] Downloading package benepar_en3 to\n",
      "[nltk_data]     /Users/kostadindev/nltk_data...\n",
      "[nltk_data]   Package benepar_en3 is already up-to-date!\n"
     ]
    },
    {
     "data": {
      "text/plain": "<benepar.integrations.spacy_plugin.BeneparComponent at 0x7fd46e8cadc0>"
     },
     "execution_count": 111,
     "metadata": {},
     "output_type": "execute_result"
    }
   ],
   "source": [
    "import pandas as pd\n",
    "from pprint import pprint as pprint\n",
    "import numpy as np\n",
    "from sklearn.cluster import AffinityPropagation, KMeans\n",
    "import distance\n",
    "import benepar, spacy\n",
    "from transformers import pipeline\n",
    "import templates\n",
    "benepar.download('benepar_en3')\n",
    "\n",
    "nlp = spacy.load('en_core_web_sm')\n",
    "nlp.add_pipe('benepar', config={'model': 'benepar_en3'})"
   ],
   "metadata": {
    "collapsed": false,
    "pycharm": {
     "name": "#%%\n"
    }
   }
  },
  {
   "cell_type": "code",
   "execution_count": 59,
   "outputs": [],
   "source": [
    "\n",
    "def get_phrases(sent, recursive=False):\n",
    "    children = list(sent._.children)\n",
    "    phrases = {}\n",
    "    for i in range(len(children)):\n",
    "        if str(children[i]) not in [',', ':', ';', '.', '!', '?']:\n",
    "            try:\n",
    "                label = children[i]._.labels[0]\n",
    "            except:\n",
    "                label = \"stop\"\n",
    "            # print(children[i], label)\n",
    "            # print(children[i], children[i]._.labels)\n",
    "            # generate_questions(children[i])\n",
    "            if label != 'stop':\n",
    "                if label not in phrases.keys():\n",
    "                    phrases[label] = []\n",
    "                phrases[label].append(children[i])\n",
    "                if recursive:\n",
    "                    new_phrases = get_phrases(children[i], recursive=recursive)\n",
    "                    for key in new_phrases.keys():\n",
    "                        if key not in phrases.keys():\n",
    "                            phrases[key] = []\n",
    "                        phrases[key].extend(new_phrases[key])\n",
    "    return phrases"
   ],
   "metadata": {
    "collapsed": false,
    "pycharm": {
     "name": "#%%\n"
    }
   }
  },
  {
   "cell_type": "code",
   "execution_count": 99,
   "outputs": [],
   "source": [
    "def question(phrases):\n",
    "    if 'SBAR' in phrases.keys():\n",
    "        return f'What {phrases[\"SBAR\"][0]}?'\n",
    "    elif 'VP' in phrases.keys():\n",
    "        return f'What {phrases[\"VP\"][0]}?'"
   ],
   "metadata": {
    "collapsed": false,
    "pycharm": {
     "name": "#%%\n"
    }
   }
  },
  {
   "cell_type": "code",
   "execution_count": 135,
   "outputs": [],
   "source": [
    "def answer(question, context, phrases, template):\n",
    "    ans = pipeline(\"question-answering\")\n",
    "    ans = ans(question=question, context=context)\n",
    "    #print(ans['score'])\n",
    "    answers = []\n",
    "    if template == \"IF\" or template =='THEN':\n",
    "        if 'NP' in phrases.keys():\n",
    "            for np in phrases['NP']:\n",
    "                answers.append(f'{np}')\n",
    "    elif template == \"IF_THEN\":\n",
    "        if 'NP' in phrases.keys():\n",
    "            for np in phrases['NP']:\n",
    "                if 'VP' in phrases.keys():\n",
    "                    for vp in phrases['VP']:\n",
    "                        answers.append(f'{np} {vp}')\n",
    "    return ans['answer'], answers\n",
    "\n",
    "#%"
   ],
   "metadata": {
    "collapsed": false,
    "pycharm": {
     "name": "#%%\n"
    }
   }
  },
  {
   "cell_type": "code",
   "execution_count": 126,
   "outputs": [
    {
     "name": "stderr",
     "output_type": "stream",
     "text": [
      "/Users/kostadindev/.conda/envs/rfc-qa-generator/lib/python3.9/site-packages/torch/distributions/distribution.py:44: UserWarning: <class 'torch_struct.distributions.TreeCRF'> does not define `arg_constraints`. Please set `arg_constraints = {}` or initialize the distribution with `validate_args=False` to turn off validation.\n",
      "  warnings.warn(f'{self.__class__} does not define `arg_constraints`. ' +\n"
     ]
    }
   ],
   "source": [
    "sentence = 'If the stored verifier does not match, then an error of NFS4ERR_EXIST is returned.'\n",
    "\n",
    "doc = nlp(sentence)\n",
    "sent = list(doc.sents)[0]"
   ],
   "metadata": {
    "collapsed": false,
    "pycharm": {
     "name": "#%%\n"
    }
   }
  },
  {
   "cell_type": "code",
   "execution_count": 127,
   "outputs": [
    {
     "name": "stdout",
     "output_type": "stream",
     "text": [
      "STEP 1: Get 1 layer constituency parse and determine template\n",
      "If the stored verifier does not match, then an error of NFS4ERR_EXIST is returned.\n",
      "{'ADVP': [then],\n",
      " 'NP': [an error of NFS4ERR_EXIST],\n",
      " 'SBAR': [If the stored verifier does not match],\n",
      " 'VP': [is returned]}\n",
      "\n",
      "Determine it is template [IF THEN] from existance SBAR and ADVP\n"
     ]
    }
   ],
   "source": [
    "print(\"STEP 1: Get 1 layer constituency parse and determine template\")\n",
    "print(sentence)\n",
    "phrases1 = get_phrases(sent, recursive= False)\n",
    "pprint(phrases1)\n",
    "print()\n",
    "print(\"Determine it is template [IF THEN] from existance SBAR and ADVP\")"
   ],
   "metadata": {
    "collapsed": false,
    "pycharm": {
     "name": "#%%\n"
    }
   }
  },
  {
   "cell_type": "code",
   "execution_count": 128,
   "outputs": [
    {
     "name": "stderr",
     "output_type": "stream",
     "text": [
      "No model was supplied, defaulted to distilbert-base-cased-distilled-squad (https://huggingface.co/distilbert-base-cased-distilled-squad)\n"
     ]
    },
    {
     "name": "stdout",
     "output_type": "stream",
     "text": [
      "STEP 2: Ask question using SBAR and answer using QA\n",
      "s: If the stored verifier does not match, then an error of NFS4ERR_EXIST is returned.\n",
      "q: What If the stored verifier does not match?\n",
      "possible answers: ['an error of NFS4ERR_EXIST is returned']\n",
      "deep learning answer: an error of NFS4ERR_EXIST\n",
      "select answer from possible answers using the deep learning answer\n",
      "Establish edge from this relationship\n"
     ]
    }
   ],
   "source": [
    "print(\"STEP 2: Ask question using SBAR and answer using QA\")\n",
    "print(f's: {sentence}')\n",
    "q1 = question(phrases1)\n",
    "print(f'q: {q1}')\n",
    "ans1, answers1 = answer(q1, sentence, phrases1,\"IF_THEN\") # ans is deep learning answer and answers1 are the (NP,VP) pairs\n",
    "print(f'possible answers: {answers1}')\n",
    "print(f'deep learning answer: {ans1}')\n",
    "print(\"select answer from possible answers using the deep learning answer\")\n",
    "print(\"Establish edge from this relationship\")"
   ],
   "metadata": {
    "collapsed": false,
    "pycharm": {
     "name": "#%%\n"
    }
   }
  },
  {
   "cell_type": "code",
   "execution_count": 129,
   "outputs": [
    {
     "name": "stderr",
     "output_type": "stream",
     "text": [
      "No model was supplied, defaulted to distilbert-base-cased-distilled-squad (https://huggingface.co/distilbert-base-cased-distilled-squad)\n"
     ]
    },
    {
     "name": "stdout",
     "output_type": "stream",
     "text": [
      "STEP 3: Repeat step 1 and 2 for each subtree\n",
      "STEP 3.1: IF template\n",
      "s: If the stored verifier does not match\n",
      "{'NP': [the stored verifier], 'VP': [does not match]}\n",
      "q: What does not match? - pred_name\n",
      "a: ('stored verifier', ['the stored verifier']) - var_val\n",
      "if - if_else\n"
     ]
    }
   ],
   "source": [
    "print(\"STEP 3: Repeat step 1 and 2 for each subtree\")\n",
    "print(\"STEP 3.1: IF template\")\n",
    "sentence2_1 = phrases1['SBAR'][0]\n",
    "print(f's: {sentence2_1}')\n",
    "\n",
    "phrases2_1 = get_phrases(get_phrases(sentence2_1)['S'][0])\n",
    "\n",
    "pprint(phrases2_1)\n",
    "\n",
    "q2_1 = question(phrases2_1)\n",
    "a2_1 = answer(q2_1,sentence, phrases2_1, template = 'IF' )\n",
    "print(f'q: {q2_1} - pred_name')\n",
    "print(f'a: {a2_1} - var_val')\n",
    "print(\"if - if_else\")"
   ],
   "metadata": {
    "collapsed": false,
    "pycharm": {
     "name": "#%%\n"
    }
   }
  },
  {
   "cell_type": "code",
   "execution_count": 137,
   "outputs": [
    {
     "name": "stderr",
     "output_type": "stream",
     "text": [
      "/Users/kostadindev/.conda/envs/rfc-qa-generator/lib/python3.9/site-packages/torch/distributions/distribution.py:44: UserWarning: <class 'torch_struct.distributions.TreeCRF'> does not define `arg_constraints`. Please set `arg_constraints = {}` or initialize the distribution with `validate_args=False` to turn off validation.\n",
      "  warnings.warn(f'{self.__class__} does not define `arg_constraints`. ' +\n",
      "No model was supplied, defaulted to distilbert-base-cased-distilled-squad (https://huggingface.co/distilbert-base-cased-distilled-squad)\n"
     ]
    },
    {
     "name": "stdout",
     "output_type": "stream",
     "text": [
      "STEP 3.2: THEN template\n",
      "s: an error of NFS4ERR_EXIST is returned\n",
      "{'NP': [an error of NFS4ERR_EXIST], 'VP': [is returned]}\n",
      "q: What is returned? - pred_name\n",
      "a: ('stored verifier', ['the stored verifier']) - var_val\n"
     ]
    }
   ],
   "source": [
    "print(\"STEP 3.2: THEN template\")\n",
    "sentence2_2 = list(nlp('an error of NFS4ERR_EXIST is returned').sents)[0]\n",
    "print(f's: {sentence2_2}')\n",
    "\n",
    "phrases2_2 = get_phrases(sentence2_2)\n",
    "pprint(phrases2_2)\n",
    "q2_2 = question(phrases2_2)\n",
    "a2_2 = answer(q2_1,sentence, phrases2_1, template = 'THEN' )\n",
    "print(f'q: {q2_2} - Def_Fun_name')\n",
    "print(f'a: {a2_2} - return value')"
   ],
   "metadata": {
    "collapsed": false,
    "pycharm": {
     "name": "#%%\n"
    }
   }
  },
  {
   "cell_type": "code",
   "execution_count": 130,
   "outputs": [],
   "source": [],
   "metadata": {
    "collapsed": false,
    "pycharm": {
     "name": "#%%\n"
    }
   }
  },
  {
   "cell_type": "code",
   "execution_count": null,
   "outputs": [],
   "source": [],
   "metadata": {
    "collapsed": false,
    "pycharm": {
     "name": "#%%\n"
    }
   }
  }
 ],
 "metadata": {
  "kernelspec": {
   "display_name": "Python 3",
   "language": "python",
   "name": "python3"
  },
  "language_info": {
   "codemirror_mode": {
    "name": "ipython",
    "version": 2
   },
   "file_extension": ".py",
   "mimetype": "text/x-python",
   "name": "python",
   "nbconvert_exporter": "python",
   "pygments_lexer": "ipython2",
   "version": "2.7.6"
  }
 },
 "nbformat": 4,
 "nbformat_minor": 0
}