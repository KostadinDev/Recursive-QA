{
 "cells": [
  {
   "cell_type": "code",
   "execution_count": 60,
   "metadata": {
    "collapsed": true
   },
   "outputs": [
    {
     "name": "stderr",
     "output_type": "stream",
     "text": [
      "[nltk_data] Downloading package benepar_en3 to\n",
      "[nltk_data]     /Users/kostadindev/nltk_data...\n",
      "[nltk_data]   Package benepar_en3 is already up-to-date!\n",
      "/Users/kostadindev/.conda/envs/constituency_parse/lib/python3.9/site-packages/torch/distributions/distribution.py:44: UserWarning: <class 'torch_struct.distributions.TreeCRF'> does not define `arg_constraints`. Please set `arg_constraints = {}` or initialize the distribution with `validate_args=False` to turn off validation.\n",
      "  warnings.warn(f'{self.__class__} does not define `arg_constraints`. ' +\n"
     ]
    }
   ],
   "source": [
    "import benepar, spacy\n",
    "benepar.download('benepar_en3')\n"
   ]
  },
  {
   "cell_type": "code",
   "execution_count": 61,
   "outputs": [],
   "source": [
    "#list(sent._.children)[3]\n",
    "#print(list(sent._.children)[2].label)\n",
    "# for i in range(len(list(sent._.children))):\n",
    "#     print(list(sent._.children[i]), list(sent._._labels)[i])\n",
    "# list(sent._.children)\n",
    "import pandas as pd\n",
    "from pprint import pprint as pprint\n",
    "import numpy as np\n",
    "from sklearn.cluster import AffinityPropagation, KMeans\n",
    "import distance"
   ],
   "metadata": {
    "collapsed": false,
    "pycharm": {
     "name": "#%%\n"
    }
   }
  },
  {
   "cell_type": "code",
   "execution_count": 62,
   "outputs": [],
   "source": [
    "def pd_print_entry(df, index):\n",
    "    entry = df.iloc[index]\n",
    "    print(\"Sentence: \")\n",
    "    print(entry['sentence'])\n",
    "    print(\"Questions: \")\n",
    "    print(entry['questions'])\n",
    "    print('Answers')\n",
    "    #print(entry['answers'])\n",
    "    for answer in entry['answers']:\n",
    "        print(answer)\n",
    "    print('Removed')\n",
    "    #print(entry['answers'])\n",
    "    for removed in entry['removed']:\n",
    "        print(removed)\n",
    "    print('Phrases: ')\n",
    "    pprint(entry['phrases'])"
   ],
   "metadata": {
    "collapsed": false,
    "pycharm": {
     "name": "#%%\n"
    }
   }
  },
  {
   "cell_type": "code",
   "execution_count": 63,
   "outputs": [],
   "source": [
    "def get_phrases(sent, recursive = False):\n",
    "    children = list(sent._.children)\n",
    "    #VP, NP, SBAR, ADVP, PP = [], [], [], [], []\n",
    "    phrases = {}\n",
    "    for i in range(len(children)):\n",
    "        if str(children[i]) not in signs:\n",
    "            try:\n",
    "                label = children[i]._.labels[0]\n",
    "            except:\n",
    "                label= \"stop\"\n",
    "            # print(children[i], label)\n",
    "            # print(children[i], children[i]._.labels)\n",
    "            # generate_questions(children[i])\n",
    "            if label != 'stop':\n",
    "                if label not in phrases.keys():\n",
    "                    phrases[label] = []\n",
    "                phrases[label].append(children[i])\n",
    "                new_phrases= get_phrases(children[i], recursive= recursive)\n",
    "                for key in new_phrases.keys():\n",
    "                    if key not in phrases.keys():\n",
    "                        phrases[key] = []\n",
    "                    phrases[key].extend(new_phrases[key])\n",
    "    return phrases"
   ],
   "metadata": {
    "collapsed": false,
    "pycharm": {
     "name": "#%%\n"
    }
   }
  },
  {
   "cell_type": "code",
   "execution_count": 64,
   "outputs": [],
   "source": [
    "def get_QA(phrases):\n",
    "    questions, answers = [], []\n",
    "    if 'SBAR' in phrases.keys():\n",
    "        for sbar in phrases['SBAR']:\n",
    "            questions.append(f\"What {str(sbar)}?\")\n",
    "            if 'NP' in phrases.keys():\n",
    "                for np in phrases['NP']:\n",
    "                    if 'VP' in phrases.keys():\n",
    "                        for vp in phrases['VP']:\n",
    "                            answers.append(f'<np>{np}<np> <vp>{vp}<vp>')\n",
    "    return questions, answers"
   ],
   "metadata": {
    "collapsed": false,
    "pycharm": {
     "name": "#%%\n"
    }
   }
  },
  {
   "cell_type": "code",
   "execution_count": 65,
   "outputs": [],
   "source": [
    "def edit_distance(s1, s2):\n",
    "    if len(s1) > len(s2):\n",
    "        s1, s2 = s2, s1\n",
    "\n",
    "    distances = range(len(s1) + 1)\n",
    "    for i2, c2 in enumerate(s2):\n",
    "        distances_ = [i2+1]\n",
    "        for i1, c1 in enumerate(s1):\n",
    "            if c1 == c2:\n",
    "                distances_.append(distances[i1])\n",
    "            else:\n",
    "                distances_.append(1 + min((distances[i1], distances[i1 + 1], distances_[-1])))\n",
    "        distances = distances_\n",
    "    return distances[-1]"
   ],
   "metadata": {
    "collapsed": false,
    "pycharm": {
     "name": "#%%\n"
    }
   }
  },
  {
   "cell_type": "code",
   "execution_count": 66,
   "outputs": [],
   "source": [
    "# TODO REVISIT USING TREE\n",
    "def filter_edit_distance(words):\n",
    "    if len(words) == 0:\n",
    "        return []\n",
    "    filtered_words = []\n",
    "    words = np.asarray(words) #So that indexing with a list will work\n",
    "    lev_similarity = -1*np.array([[distance.levenshtein(w1,w2) for w1 in words] for w2 in words])\n",
    "    try:\n",
    "        clustering = AffinityPropagation(affinity=\"precomputed\", damping=0.5)\n",
    "        clustering.fit(lev_similarity)\n",
    "        for cluster_id in np.unique(clustering.labels_):\n",
    "            exemplar = words[clustering.cluster_centers_indices_[cluster_id]]\n",
    "            filtered_words.append(exemplar)\n",
    "    except:\n",
    "        clustering = KMeans(n_clusters=max(int(np.sqrt(len(words))),5), random_state=0).fit(lev_similarity)\n",
    "        for cluster_id in np.unique(clustering.labels_):\n",
    "            exemplar = np.random.choice(words[clustering.labels_==cluster_id])\n",
    "            filtered_words.append(exemplar)\n",
    "    return filtered_words"
   ],
   "metadata": {
    "collapsed": false,
    "pycharm": {
     "name": "#%%\n"
    }
   }
  },
  {
   "cell_type": "code",
   "execution_count": 67,
   "outputs": [],
   "source": [
    "def filter_not_in_question(answers, question):\n",
    "    filtered_answers = []\n",
    "    for answer in answers:\n",
    "        vp = answer.split('<vp>')[1]\n",
    "        np = answer.split('<np>')[1]\n",
    "        if (vp not in question or len(vp)<10) and (np not in question or len(np)<10):\n",
    "            filtered_answers.append(answer)\n",
    "    return filtered_answers"
   ],
   "metadata": {
    "collapsed": false,
    "pycharm": {
     "name": "#%%\n"
    }
   }
  },
  {
   "cell_type": "code",
   "execution_count": 68,
   "outputs": [],
   "source": [
    "def parse_sentence(sentence, recursive = True):\n",
    "    sent = list(nlp(sentence).sents)[0]\n",
    "    phrases = get_phrases(sent, recursive = recursive)\n",
    "    questions, answers = get_QA(phrases)\n",
    "    qa_pairs = []\n",
    "    filtered_answers = filter_edit_distance(answers)\n",
    "    # for question in questions:\n",
    "    #     filtered_answers = answers #filter_not_in_question(answers, question)\n",
    "    #     qa_pairs.append({'question':question, 'answers':filtered_answers})\n",
    "    return [str(sent), questions, filtered_answers, [answer for answer in answers if answer not in filtered_answers], phrases]"
   ],
   "metadata": {
    "collapsed": false,
    "pycharm": {
     "name": "#%%\n"
    }
   }
  },
  {
   "cell_type": "code",
   "execution_count": 69,
   "outputs": [
    {
     "name": "stdout",
     "output_type": "stream",
     "text": [
      "[[  0 -31 -31 -57 -88 -88 -46 -77 -77 -40 -71 -71 -56 -87 -87 -53 -84 -84\n",
      "  -60 -91 -91]\n",
      " [-31   0  -3 -39 -57 -60 -37 -46 -49 -50 -40 -43 -44 -56 -59 -45 -53 -56\n",
      "  -47 -60 -63]\n",
      " [-31  -3   0 -36 -60 -57 -34 -49 -46 -47 -43 -40 -41 -59 -56 -42 -56 -53\n",
      "  -44 -63 -60]\n",
      " [-57 -39 -36   0 -31 -31 -14 -45 -44 -22 -46 -45  -8 -39 -39  -9 -40 -40\n",
      "  -13 -44 -44]\n",
      " [-88 -57 -60 -31   0  -3 -45 -14 -17 -53 -22 -25 -39  -8 -11 -40  -9 -12\n",
      "  -44 -13 -16]\n",
      " [-88 -60 -57 -31  -3   0 -45 -17 -14 -53 -25 -22 -39 -11  -8 -40 -12  -9\n",
      "  -44 -16 -13]\n",
      " [-46 -37 -34 -14 -45 -45   0 -31 -31 -19 -50 -50 -16 -47 -47 -17 -48 -48\n",
      "  -18 -49 -49]\n",
      " [-77 -46 -49 -45 -14 -17 -31   0  -3 -50 -19 -22 -46 -16 -19 -48 -17 -20\n",
      "  -49 -18 -21]\n",
      " [-77 -49 -46 -44 -17 -14 -31  -3   0 -50 -22 -19 -45 -19 -16 -48 -20 -17\n",
      "  -49 -21 -18]\n",
      " [-40 -50 -47 -22 -53 -53 -19 -50 -50   0 -31 -31 -16 -47 -47 -13 -44 -44\n",
      "  -20 -51 -51]\n",
      " [-71 -40 -43 -46 -22 -25 -50 -19 -22 -31   0  -3 -39 -16 -19 -44 -13 -16\n",
      "  -51 -20 -23]\n",
      " [-71 -43 -40 -45 -25 -22 -50 -22 -19 -31  -3   0 -39 -19 -16 -44 -16 -13\n",
      "  -51 -23 -20]\n",
      " [-56 -44 -41  -8 -39 -39 -16 -46 -45 -16 -39 -39   0 -31 -31 -11 -42 -42\n",
      "  -13 -44 -44]\n",
      " [-87 -56 -59 -39  -8 -11 -47 -16 -19 -47 -16 -19 -31   0  -3 -42 -11 -14\n",
      "  -44 -13 -16]\n",
      " [-87 -59 -56 -39 -11  -8 -47 -19 -16 -47 -19 -16 -31  -3   0 -42 -14 -11\n",
      "  -44 -16 -13]\n",
      " [-53 -45 -42  -9 -40 -40 -17 -48 -48 -13 -44 -44 -11 -42 -42   0 -31 -31\n",
      "  -10 -41 -41]\n",
      " [-84 -53 -56 -40  -9 -12 -48 -17 -20 -44 -13 -16 -42 -11 -14 -31   0  -3\n",
      "  -41 -10 -13]\n",
      " [-84 -56 -53 -40 -12  -9 -48 -20 -17 -44 -16 -13 -42 -14 -11 -31  -3   0\n",
      "  -41 -13 -10]\n",
      " [-60 -47 -44 -13 -44 -44 -18 -49 -49 -20 -51 -51 -13 -44 -44 -10 -41 -41\n",
      "    0 -31 -31]\n",
      " [-91 -60 -63 -44 -13 -16 -49 -18 -21 -51 -20 -23 -44 -13 -16 -41 -10 -13\n",
      "  -31   0  -3]\n",
      " [-91 -63 -60 -44 -16 -13 -49 -21 -18 -51 -23 -20 -44 -16 -13 -41 -13 -10\n",
      "  -31  -3   0]]\n",
      "Finished 0/22\n"
     ]
    },
    {
     "name": "stderr",
     "output_type": "stream",
     "text": [
      "/Users/kostadindev/.conda/envs/constituency_parse/lib/python3.9/site-packages/torch/distributions/distribution.py:44: UserWarning: <class 'torch_struct.distributions.TreeCRF'> does not define `arg_constraints`. Please set `arg_constraints = {}` or initialize the distribution with `validate_args=False` to turn off validation.\n",
      "  warnings.warn(f'{self.__class__} does not define `arg_constraints`. ' +\n"
     ]
    },
    {
     "name": "stdout",
     "output_type": "stream",
     "text": [
      "[[  0  -9 -21 ... -32 -43 -41]\n",
      " [ -9   0 -12 ... -28 -41 -38]\n",
      " [-21 -12   0 ... -19 -45 -44]\n",
      " ...\n",
      " [-32 -28 -19 ...   0 -32 -29]\n",
      " [-43 -41 -45 ... -32   0  -3]\n",
      " [-41 -38 -44 ... -29  -3   0]]\n",
      "Finished 1/22\n",
      "Finished 2/22\n"
     ]
    },
    {
     "name": "stderr",
     "output_type": "stream",
     "text": [
      "/Users/kostadindev/.conda/envs/constituency_parse/lib/python3.9/site-packages/torch/distributions/distribution.py:44: UserWarning: <class 'torch_struct.distributions.TreeCRF'> does not define `arg_constraints`. Please set `arg_constraints = {}` or initialize the distribution with `validate_args=False` to turn off validation.\n",
      "  warnings.warn(f'{self.__class__} does not define `arg_constraints`. ' +\n"
     ]
    },
    {
     "name": "stdout",
     "output_type": "stream",
     "text": [
      "[[  0 -30 -21 -21 -51 -42 -22 -39 -35 -19 -49 -39]\n",
      " [-30   0 -10 -51 -21 -31 -52 -22 -32 -49 -19 -29]\n",
      " [-21 -10   0 -42 -31 -21 -43 -27 -22 -40 -28 -19]\n",
      " [-21 -51 -42   0 -30 -21 -27 -40 -39  -7 -37 -28]\n",
      " [-51 -21 -31 -30   0 -10 -57 -27 -37 -37  -7 -17]\n",
      " [-42 -31 -21 -21 -10   0 -48 -32 -27 -28 -17  -7]\n",
      " [-22 -52 -43 -27 -57 -48   0 -30 -21 -22 -52 -43]\n",
      " [-39 -22 -27 -40 -27 -32 -30   0 -10 -39 -22 -27]\n",
      " [-35 -32 -22 -39 -37 -27 -21 -10   0 -36 -32 -22]\n",
      " [-19 -49 -40  -7 -37 -28 -22 -39 -36   0 -30 -21]\n",
      " [-49 -19 -28 -37  -7 -17 -52 -22 -32 -30   0 -10]\n",
      " [-39 -29 -19 -28 -17  -7 -43 -27 -22 -21 -10   0]]\n",
      "Finished 3/22\n",
      "Finished 4/22\n",
      "Finished 5/22\n"
     ]
    },
    {
     "name": "stderr",
     "output_type": "stream",
     "text": [
      "/Users/kostadindev/.conda/envs/constituency_parse/lib/python3.9/site-packages/torch/distributions/distribution.py:44: UserWarning: <class 'torch_struct.distributions.TreeCRF'> does not define `arg_constraints`. Please set `arg_constraints = {}` or initialize the distribution with `validate_args=False` to turn off validation.\n",
      "  warnings.warn(f'{self.__class__} does not define `arg_constraints`. ' +\n"
     ]
    },
    {
     "name": "stdout",
     "output_type": "stream",
     "text": [
      "[[  0 -23 -68 ... -39 -40 -40]\n",
      " [-23   0 -75 ... -32 -36 -37]\n",
      " [-68 -75   0 ... -98 -94 -96]\n",
      " ...\n",
      " [-39 -32 -98 ...   0  -9  -7]\n",
      " [-40 -36 -94 ...  -9   0  -3]\n",
      " [-40 -37 -96 ...  -7  -3   0]]\n",
      "Finished 6/22\n"
     ]
    },
    {
     "name": "stderr",
     "output_type": "stream",
     "text": [
      "/Users/kostadindev/.conda/envs/constituency_parse/lib/python3.9/site-packages/torch/distributions/distribution.py:44: UserWarning: <class 'torch_struct.distributions.TreeCRF'> does not define `arg_constraints`. Please set `arg_constraints = {}` or initialize the distribution with `validate_args=False` to turn off validation.\n",
      "  warnings.warn(f'{self.__class__} does not define `arg_constraints`. ' +\n"
     ]
    },
    {
     "name": "stdout",
     "output_type": "stream",
     "text": [
      "[[   0   -3  -72  -10  -13  -82  -34  -37 -106  -12  -15  -84  -18  -21\n",
      "   -90   -8  -11  -80  -10  -13  -82]\n",
      " [  -3    0  -73  -13  -10  -83  -37  -34 -107  -15  -12  -85  -21  -18\n",
      "   -91  -11   -8  -81  -13  -10  -83]\n",
      " [ -72  -73    0  -82  -83  -10  -57  -58  -34  -77  -79  -12  -73  -74\n",
      "   -18  -80  -81   -8  -82  -83  -10]\n",
      " [ -10  -13  -82    0   -3  -72  -27  -30  -99   -6   -9  -78  -16  -19\n",
      "   -88   -9  -12  -78   -5   -8  -77]\n",
      " [ -13  -10  -83   -3    0  -73  -30  -27 -100   -9   -6  -79  -19  -16\n",
      "   -89  -12   -9  -80   -8   -5  -78]\n",
      " [ -82  -83  -10  -72  -73    0  -59  -60  -27  -78  -79   -6  -75  -76\n",
      "   -16  -81  -82   -9  -77  -78   -5]\n",
      " [ -34  -37  -57  -27  -30  -59    0   -3  -72  -22  -25  -61  -16  -19\n",
      "   -67  -31  -34  -53  -25  -28  -59]\n",
      " [ -37  -34  -58  -30  -27  -60   -3    0  -73  -25  -22  -62  -19  -16\n",
      "   -68  -34  -31  -54  -28  -25  -60]\n",
      " [-106 -107  -34  -99 -100  -27  -72  -73    0  -94  -95  -22  -88  -89\n",
      "   -16 -103 -104  -31  -97  -98  -25]\n",
      " [ -12  -15  -77   -6   -9  -78  -22  -25  -94    0   -3  -72  -15  -18\n",
      "   -87  -11  -14  -73   -5   -8  -77]\n",
      " [ -15  -12  -79   -9   -6  -79  -25  -22  -95   -3    0  -73  -18  -15\n",
      "   -88  -14  -11  -75   -8   -5  -78]\n",
      " [ -84  -85  -12  -78  -79   -6  -61  -62  -22  -72  -73    0  -77  -78\n",
      "   -15  -83  -84  -11  -77  -78   -5]\n",
      " [ -18  -21  -73  -16  -19  -75  -16  -19  -88  -15  -18  -77    0   -3\n",
      "   -72  -16  -19  -69  -15  -18  -75]\n",
      " [ -21  -18  -74  -19  -16  -76  -19  -16  -89  -18  -15  -78   -3    0\n",
      "   -73  -19  -16  -70  -18  -15  -76]\n",
      " [ -90  -91  -18  -88  -89  -16  -67  -68  -16  -87  -88  -15  -72  -73\n",
      "     0  -88  -89  -16  -87  -88  -15]\n",
      " [  -8  -11  -80   -9  -12  -81  -31  -34 -103  -11  -14  -83  -16  -19\n",
      "   -88    0   -3  -72   -8  -11  -80]\n",
      " [ -11   -8  -81  -12   -9  -82  -34  -31 -104  -14  -11  -84  -19  -16\n",
      "   -89   -3    0  -73  -11   -8  -81]\n",
      " [ -80  -81   -8  -78  -80   -9  -53  -54  -31  -73  -75  -11  -69  -70\n",
      "   -16  -72  -73    0  -78  -79   -8]\n",
      " [ -10  -13  -82   -5   -8  -77  -25  -28  -97   -5   -8  -77  -15  -18\n",
      "   -87   -8  -11  -78    0   -3  -72]\n",
      " [ -13  -10  -83   -8   -5  -78  -28  -25  -98   -8   -5  -78  -18  -15\n",
      "   -88  -11   -8  -79   -3    0  -73]\n",
      " [ -82  -83  -10  -77  -78   -5  -59  -60  -25  -77  -78   -5  -75  -76\n",
      "   -15  -80  -81   -8  -72  -73    0]]\n",
      "Finished 7/22\n"
     ]
    },
    {
     "name": "stderr",
     "output_type": "stream",
     "text": [
      "/Users/kostadindev/.conda/envs/constituency_parse/lib/python3.9/site-packages/torch/distributions/distribution.py:44: UserWarning: <class 'torch_struct.distributions.TreeCRF'> does not define `arg_constraints`. Please set `arg_constraints = {}` or initialize the distribution with `validate_args=False` to turn off validation.\n",
      "  warnings.warn(f'{self.__class__} does not define `arg_constraints`. ' +\n"
     ]
    },
    {
     "name": "stdout",
     "output_type": "stream",
     "text": [
      "[[  0 -21 -18 -23 -44 -41 -10 -31 -28 -13 -34 -31 -10 -31 -28]\n",
      " [-21   0  -3 -39 -23 -26 -31 -10 -13 -34 -13 -16 -31 -10 -13]\n",
      " [-18  -3   0 -36 -26 -23 -28 -13 -10 -31 -16 -13 -28 -13 -10]\n",
      " [-23 -39 -36   0 -21 -18 -17 -30 -30 -12 -33 -30 -23 -38 -37]\n",
      " [-44 -23 -26 -21   0  -3 -38 -17 -20 -33 -12 -15 -44 -23 -26]\n",
      " [-41 -26 -23 -18  -3   0 -35 -20 -17 -30 -15 -12 -41 -26 -23]\n",
      " [-10 -31 -28 -17 -38 -35   0 -21 -18 -13 -34 -31  -9 -30 -27]\n",
      " [-31 -10 -13 -30 -17 -20 -21   0  -3 -34 -13 -16 -30  -9 -12]\n",
      " [-28 -13 -10 -30 -20 -17 -18  -3   0 -31 -16 -13 -27 -12  -9]\n",
      " [-13 -34 -31 -12 -33 -30 -13 -34 -31   0 -21 -18 -13 -34 -31]\n",
      " [-34 -13 -16 -33 -12 -15 -34 -13 -16 -21   0  -3 -34 -13 -16]\n",
      " [-31 -16 -13 -30 -15 -12 -31 -16 -13 -18  -3   0 -31 -16 -13]\n",
      " [-10 -31 -28 -23 -44 -41  -9 -30 -27 -13 -34 -31   0 -21 -18]\n",
      " [-31 -10 -13 -38 -23 -26 -30  -9 -12 -34 -13 -16 -21   0  -3]\n",
      " [-28 -13 -10 -37 -26 -23 -27 -12  -9 -31 -16 -13 -18  -3   0]]\n",
      "Finished 8/22\n"
     ]
    },
    {
     "name": "stderr",
     "output_type": "stream",
     "text": [
      "/Users/kostadindev/.conda/envs/constituency_parse/lib/python3.9/site-packages/sklearn/cluster/_affinity_propagation.py:250: ConvergenceWarning: Affinity propagation did not converge, this model will not have any cluster centers.\n",
      "  warnings.warn(\n",
      "/Users/kostadindev/.conda/envs/constituency_parse/lib/python3.9/site-packages/torch/distributions/distribution.py:44: UserWarning: <class 'torch_struct.distributions.TreeCRF'> does not define `arg_constraints`. Please set `arg_constraints = {}` or initialize the distribution with `validate_args=False` to turn off validation.\n",
      "  warnings.warn(f'{self.__class__} does not define `arg_constraints`. ' +\n"
     ]
    },
    {
     "name": "stdout",
     "output_type": "stream",
     "text": [
      "[[  0  -9 -48 -13 -27  -6 -15 -54 -19 -33   0  -9 -48 -13 -27  -8 -17 -56\n",
      "  -21 -35   0  -9 -48 -13 -27]\n",
      " [ -9   0 -55 -15 -32 -15  -6 -61 -21 -38  -9   0 -55 -15 -32 -17  -8 -63\n",
      "  -23 -40  -9   0 -55 -15 -32]\n",
      " [-48 -55   0 -40 -23 -54 -61  -6 -46 -29 -48 -55   0 -40 -23 -56 -63  -8\n",
      "  -48 -31 -48 -55   0 -40 -23]\n",
      " [-13 -15 -40   0 -20 -19 -21 -46  -6 -26 -13 -15 -40   0 -20 -21 -23 -48\n",
      "   -8 -28 -13 -15 -40   0 -20]\n",
      " [-27 -32 -23 -20   0 -33 -38 -29 -26  -6 -27 -32 -23 -20   0 -35 -40 -31\n",
      "  -28  -8 -27 -32 -23 -20   0]\n",
      " [ -6 -15 -54 -19 -33   0  -9 -48 -13 -27  -6 -15 -54 -19 -33  -4 -13 -52\n",
      "  -17 -31  -6 -15 -54 -19 -33]\n",
      " [-15  -6 -61 -21 -38  -9   0 -55 -15 -32 -15  -6 -61 -21 -38 -13  -4 -59\n",
      "  -19 -36 -15  -6 -61 -21 -38]\n",
      " [-54 -61  -6 -46 -29 -48 -55   0 -40 -23 -54 -61  -6 -46 -29 -52 -59  -4\n",
      "  -44 -27 -54 -61  -6 -46 -29]\n",
      " [-19 -21 -46  -6 -26 -13 -15 -40   0 -20 -19 -21 -46  -6 -26 -17 -19 -44\n",
      "   -4 -24 -19 -21 -46  -6 -26]\n",
      " [-33 -38 -29 -26  -6 -27 -32 -23 -20   0 -33 -38 -29 -26  -6 -31 -36 -27\n",
      "  -24  -4 -33 -38 -29 -26  -6]\n",
      " [  0  -9 -48 -13 -27  -6 -15 -54 -19 -33   0  -9 -48 -13 -27  -8 -17 -56\n",
      "  -21 -35   0  -9 -48 -13 -27]\n",
      " [ -9   0 -55 -15 -32 -15  -6 -61 -21 -38  -9   0 -55 -15 -32 -17  -8 -63\n",
      "  -23 -40  -9   0 -55 -15 -32]\n",
      " [-48 -55   0 -40 -23 -54 -61  -6 -46 -29 -48 -55   0 -40 -23 -56 -63  -8\n",
      "  -48 -31 -48 -55   0 -40 -23]\n",
      " [-13 -15 -40   0 -20 -19 -21 -46  -6 -26 -13 -15 -40   0 -20 -21 -23 -48\n",
      "   -8 -28 -13 -15 -40   0 -20]\n",
      " [-27 -32 -23 -20   0 -33 -38 -29 -26  -6 -27 -32 -23 -20   0 -35 -40 -31\n",
      "  -28  -8 -27 -32 -23 -20   0]\n",
      " [ -8 -17 -56 -21 -35  -4 -13 -52 -17 -31  -8 -17 -56 -21 -35   0  -9 -48\n",
      "  -13 -27  -8 -17 -56 -21 -35]\n",
      " [-17  -8 -63 -23 -40 -13  -4 -59 -19 -36 -17  -8 -63 -23 -40  -9   0 -55\n",
      "  -15 -32 -17  -8 -63 -23 -40]\n",
      " [-56 -63  -8 -48 -31 -52 -59  -4 -44 -27 -56 -63  -8 -48 -31 -48 -55   0\n",
      "  -40 -23 -56 -63  -8 -48 -31]\n",
      " [-21 -23 -48  -8 -28 -17 -19 -44  -4 -24 -21 -23 -48  -8 -28 -13 -15 -40\n",
      "    0 -20 -21 -23 -48  -8 -28]\n",
      " [-35 -40 -31 -28  -8 -31 -36 -27 -24  -4 -35 -40 -31 -28  -8 -27 -32 -23\n",
      "  -20   0 -35 -40 -31 -28  -8]\n",
      " [  0  -9 -48 -13 -27  -6 -15 -54 -19 -33   0  -9 -48 -13 -27  -8 -17 -56\n",
      "  -21 -35   0  -9 -48 -13 -27]\n",
      " [ -9   0 -55 -15 -32 -15  -6 -61 -21 -38  -9   0 -55 -15 -32 -17  -8 -63\n",
      "  -23 -40  -9   0 -55 -15 -32]\n",
      " [-48 -55   0 -40 -23 -54 -61  -6 -46 -29 -48 -55   0 -40 -23 -56 -63  -8\n",
      "  -48 -31 -48 -55   0 -40 -23]\n",
      " [-13 -15 -40   0 -20 -19 -21 -46  -6 -26 -13 -15 -40   0 -20 -21 -23 -48\n",
      "   -8 -28 -13 -15 -40   0 -20]\n",
      " [-27 -32 -23 -20   0 -33 -38 -29 -26  -6 -27 -32 -23 -20   0 -35 -40 -31\n",
      "  -28  -8 -27 -32 -23 -20   0]]\n",
      "Finished 9/22\n"
     ]
    },
    {
     "name": "stderr",
     "output_type": "stream",
     "text": [
      "/Users/kostadindev/.conda/envs/constituency_parse/lib/python3.9/site-packages/torch/distributions/distribution.py:44: UserWarning: <class 'torch_struct.distributions.TreeCRF'> does not define `arg_constraints`. Please set `arg_constraints = {}` or initialize the distribution with `validate_args=False` to turn off validation.\n",
      "  warnings.warn(f'{self.__class__} does not define `arg_constraints`. ' +\n"
     ]
    },
    {
     "name": "stdout",
     "output_type": "stream",
     "text": [
      "[[  0  -9 -35 ... -49 -29 -57]\n",
      " [ -9   0 -40 ... -54 -33 -61]\n",
      " [-35 -40   0 ... -14 -31 -51]\n",
      " ...\n",
      " [-49 -54 -14 ...   0 -21 -37]\n",
      " [-29 -33 -31 ... -21   0 -41]\n",
      " [-57 -61 -51 ... -37 -41   0]]\n",
      "Finished 10/22\n"
     ]
    },
    {
     "name": "stderr",
     "output_type": "stream",
     "text": [
      "/Users/kostadindev/.conda/envs/constituency_parse/lib/python3.9/site-packages/torch/distributions/distribution.py:44: UserWarning: <class 'torch_struct.distributions.TreeCRF'> does not define `arg_constraints`. Please set `arg_constraints = {}` or initialize the distribution with `validate_args=False` to turn off validation.\n",
      "  warnings.warn(f'{self.__class__} does not define `arg_constraints`. ' +\n"
     ]
    },
    {
     "name": "stdout",
     "output_type": "stream",
     "text": [
      "[[  0  -9 -11 -12 -22 -31 -33 -34 -15 -24 -26 -27 -19 -28 -30 -31]\n",
      " [ -9   0 -10  -7 -31 -22 -32 -29 -24 -15 -25 -22 -28 -19 -29 -26]\n",
      " [-11 -10   0  -3 -33 -32 -22 -25 -26 -25 -15 -18 -30 -29 -19 -22]\n",
      " [-12  -7  -3   0 -34 -29 -25 -22 -27 -22 -18 -15 -31 -26 -22 -19]\n",
      " [-22 -31 -33 -34   0  -9 -11 -12 -17 -26 -28 -29 -12 -21 -23 -24]\n",
      " [-31 -22 -32 -29  -9   0 -10  -7 -24 -17 -27 -24 -21 -12 -22 -19]\n",
      " [-33 -32 -22 -25 -11 -10   0  -3 -28 -27 -17 -20 -23 -22 -12 -15]\n",
      " [-34 -29 -25 -22 -12  -7  -3   0 -29 -24 -20 -17 -24 -19 -15 -12]\n",
      " [-15 -24 -26 -27 -17 -24 -28 -29   0  -9 -11 -12 -13 -22 -24 -25]\n",
      " [-24 -15 -25 -22 -26 -17 -27 -24  -9   0 -10  -7 -22 -13 -23 -20]\n",
      " [-26 -25 -15 -18 -28 -27 -17 -20 -11 -10   0  -3 -24 -23 -13 -16]\n",
      " [-27 -22 -18 -15 -29 -24 -20 -17 -12  -7  -3   0 -25 -20 -16 -13]\n",
      " [-19 -28 -30 -31 -12 -21 -23 -24 -13 -22 -24 -25   0  -9 -11 -12]\n",
      " [-28 -19 -29 -26 -21 -12 -22 -19 -22 -13 -23 -20  -9   0 -10  -7]\n",
      " [-30 -29 -19 -22 -23 -22 -12 -15 -24 -23 -13 -16 -11 -10   0  -3]\n",
      " [-31 -26 -22 -19 -24 -19 -15 -12 -25 -20 -16 -13 -12  -7  -3   0]]\n",
      "Finished 11/22\n",
      "Finished 12/22\n"
     ]
    },
    {
     "name": "stderr",
     "output_type": "stream",
     "text": [
      "/Users/kostadindev/.conda/envs/constituency_parse/lib/python3.9/site-packages/torch/distributions/distribution.py:44: UserWarning: <class 'torch_struct.distributions.TreeCRF'> does not define `arg_constraints`. Please set `arg_constraints = {}` or initialize the distribution with `validate_args=False` to turn off validation.\n",
      "  warnings.warn(f'{self.__class__} does not define `arg_constraints`. ' +\n"
     ]
    },
    {
     "name": "stdout",
     "output_type": "stream",
     "text": [
      "[[   0   -3  -27 ...  -96 -100 -104]\n",
      " [  -3    0  -24 ...  -93  -97 -101]\n",
      " [ -27  -24    0 ...  -69  -73  -77]\n",
      " ...\n",
      " [ -96  -93  -69 ...    0   -4   -9]\n",
      " [-100  -97  -73 ...   -4    0   -5]\n",
      " [-104 -101  -77 ...   -9   -5    0]]\n",
      "Finished 13/22\n"
     ]
    },
    {
     "name": "stderr",
     "output_type": "stream",
     "text": [
      "/Users/kostadindev/.conda/envs/constituency_parse/lib/python3.9/site-packages/torch/distributions/distribution.py:44: UserWarning: <class 'torch_struct.distributions.TreeCRF'> does not define `arg_constraints`. Please set `arg_constraints = {}` or initialize the distribution with `validate_args=False` to turn off validation.\n",
      "  warnings.warn(f'{self.__class__} does not define `arg_constraints`. ' +\n"
     ]
    },
    {
     "name": "stdout",
     "output_type": "stream",
     "text": [
      "[[   0   -3 -122 ...  -84 -132 -138]\n",
      " [  -3    0 -119 ...  -81 -129 -135]\n",
      " [-122 -119    0 ...  -75  -31  -29]\n",
      " ...\n",
      " [ -84  -81  -75 ...    0  -49  -55]\n",
      " [-132 -129  -31 ...  -49    0   -6]\n",
      " [-138 -135  -29 ...  -55   -6    0]]\n",
      "Finished 14/22\n"
     ]
    },
    {
     "name": "stderr",
     "output_type": "stream",
     "text": [
      "/Users/kostadindev/.conda/envs/constituency_parse/lib/python3.9/site-packages/sklearn/cluster/_affinity_propagation.py:250: ConvergenceWarning: Affinity propagation did not converge, this model will not have any cluster centers.\n",
      "  warnings.warn(\n",
      "/Users/kostadindev/.conda/envs/constituency_parse/lib/python3.9/site-packages/torch/distributions/distribution.py:44: UserWarning: <class 'torch_struct.distributions.TreeCRF'> does not define `arg_constraints`. Please set `arg_constraints = {}` or initialize the distribution with `validate_args=False` to turn off validation.\n",
      "  warnings.warn(f'{self.__class__} does not define `arg_constraints`. ' +\n"
     ]
    },
    {
     "name": "stdout",
     "output_type": "stream",
     "text": [
      "[[  0 -60 -57 ... -64 -61 -53]\n",
      " [-60   0  -4 ... -85 -85 -86]\n",
      " [-57  -4   0 ... -82 -81 -83]\n",
      " ...\n",
      " [-64 -85 -82 ...   0  -5 -28]\n",
      " [-61 -85 -81 ...  -5   0 -23]\n",
      " [-53 -86 -83 ... -28 -23   0]]\n",
      "Finished 15/22\n"
     ]
    },
    {
     "name": "stderr",
     "output_type": "stream",
     "text": [
      "/Users/kostadindev/.conda/envs/constituency_parse/lib/python3.9/site-packages/torch/distributions/distribution.py:44: UserWarning: <class 'torch_struct.distributions.TreeCRF'> does not define `arg_constraints`. Please set `arg_constraints = {}` or initialize the distribution with `validate_args=False` to turn off validation.\n",
      "  warnings.warn(f'{self.__class__} does not define `arg_constraints`. ' +\n"
     ]
    },
    {
     "name": "stdout",
     "output_type": "stream",
     "text": [
      "[[  0  -9 -51 -13 -30  -6 -15 -57 -19 -36   0  -9 -51 -13 -30  -8 -17 -59\n",
      "  -21 -38 -13 -22 -64 -26 -43]\n",
      " [ -9   0 -58 -15 -35 -15  -6 -64 -21 -41  -9   0 -58 -15 -35 -17  -8 -66\n",
      "  -23 -43 -22 -13 -70 -28 -48]\n",
      " [-51 -58   0 -44 -23 -57 -64  -6 -50 -29 -51 -58   0 -44 -23 -59 -65  -8\n",
      "  -52 -31 -64 -66 -13 -57 -35]\n",
      " [-13 -15 -44   0 -30 -19 -21 -50  -6 -36 -13 -15 -44   0 -30 -21 -23 -52\n",
      "   -8 -38 -26 -28 -57 -13 -43]\n",
      " [-30 -35 -23 -30   0 -36 -41 -29 -36  -6 -30 -35 -23 -30   0 -38 -42 -31\n",
      "  -38  -8 -43 -46 -36 -43 -13]\n",
      " [ -6 -15 -57 -19 -36   0  -9 -51 -13 -30  -6 -15 -57 -19 -36  -4 -13 -55\n",
      "  -17 -34 -11 -20 -62 -24 -41]\n",
      " [-15  -6 -64 -21 -41  -9   0 -58 -15 -35 -15  -6 -64 -21 -41 -13  -4 -62\n",
      "  -19 -39 -20 -11 -69 -26 -46]\n",
      " [-57 -64  -6 -50 -29 -51 -58   0 -44 -23 -57 -64  -6 -50 -29 -55 -62  -4\n",
      "  -48 -27 -62 -66 -11 -55 -34]\n",
      " [-19 -21 -50  -6 -36 -13 -15 -44   0 -30 -19 -21 -50  -6 -36 -17 -19 -48\n",
      "   -4 -34 -24 -26 -55 -11 -41]\n",
      " [-36 -41 -29 -36  -6 -30 -35 -23 -30   0 -36 -41 -29 -36  -6 -34 -39 -27\n",
      "  -34  -4 -41 -46 -34 -41 -11]\n",
      " [  0  -9 -51 -13 -30  -6 -15 -57 -19 -36   0  -9 -51 -13 -30  -8 -17 -59\n",
      "  -21 -38 -13 -22 -64 -26 -43]\n",
      " [ -9   0 -58 -15 -35 -15  -6 -64 -21 -41  -9   0 -58 -15 -35 -17  -8 -66\n",
      "  -23 -43 -22 -13 -70 -28 -48]\n",
      " [-51 -58   0 -44 -23 -57 -64  -6 -50 -29 -51 -58   0 -44 -23 -59 -65  -8\n",
      "  -52 -31 -64 -66 -13 -57 -35]\n",
      " [-13 -15 -44   0 -30 -19 -21 -50  -6 -36 -13 -15 -44   0 -30 -21 -23 -52\n",
      "   -8 -38 -26 -28 -57 -13 -43]\n",
      " [-30 -35 -23 -30   0 -36 -41 -29 -36  -6 -30 -35 -23 -30   0 -38 -42 -31\n",
      "  -38  -8 -43 -46 -36 -43 -13]\n",
      " [ -8 -17 -59 -21 -38  -4 -13 -55 -17 -34  -8 -17 -59 -21 -38   0  -9 -51\n",
      "  -13 -30 -13 -22 -64 -26 -43]\n",
      " [-17  -8 -65 -23 -42 -13  -4 -62 -19 -39 -17  -8 -65 -23 -42  -9   0 -58\n",
      "  -15 -35 -22 -13 -71 -28 -48]\n",
      " [-59 -66  -8 -52 -31 -55 -62  -4 -48 -27 -59 -66  -8 -52 -31 -51 -58   0\n",
      "  -44 -23 -64 -68 -13 -57 -36]\n",
      " [-21 -23 -52  -8 -38 -17 -19 -48  -4 -34 -21 -23 -52  -8 -38 -13 -15 -44\n",
      "    0 -30 -26 -28 -57 -13 -43]\n",
      " [-38 -43 -31 -38  -8 -34 -39 -27 -34  -4 -38 -43 -31 -38  -8 -30 -35 -23\n",
      "  -30   0 -43 -48 -36 -43 -13]\n",
      " [-13 -22 -64 -26 -43 -11 -20 -62 -24 -41 -13 -22 -64 -26 -43 -13 -22 -64\n",
      "  -26 -43   0  -9 -51 -13 -30]\n",
      " [-22 -13 -66 -28 -46 -20 -11 -66 -26 -46 -22 -13 -66 -28 -46 -22 -13 -68\n",
      "  -28 -48  -9   0 -58 -15 -35]\n",
      " [-64 -70 -13 -57 -36 -62 -69 -11 -55 -34 -64 -70 -13 -57 -36 -64 -71 -13\n",
      "  -57 -36 -51 -58   0 -44 -23]\n",
      " [-26 -28 -57 -13 -43 -24 -26 -55 -11 -41 -26 -28 -57 -13 -43 -26 -28 -57\n",
      "  -13 -43 -13 -15 -44   0 -30]\n",
      " [-43 -48 -35 -43 -13 -41 -46 -34 -41 -11 -43 -48 -35 -43 -13 -43 -48 -36\n",
      "  -43 -13 -30 -35 -23 -30   0]]\n",
      "Finished 16/22\n"
     ]
    },
    {
     "name": "stderr",
     "output_type": "stream",
     "text": [
      "/Users/kostadindev/.conda/envs/constituency_parse/lib/python3.9/site-packages/torch/distributions/distribution.py:44: UserWarning: <class 'torch_struct.distributions.TreeCRF'> does not define `arg_constraints`. Please set `arg_constraints = {}` or initialize the distribution with `validate_args=False` to turn off validation.\n",
      "  warnings.warn(f'{self.__class__} does not define `arg_constraints`. ' +\n"
     ]
    },
    {
     "name": "stdout",
     "output_type": "stream",
     "text": [
      "[[  0  -9 -11 -12 -22 -31 -33 -34 -15 -24 -26 -27 -19 -28 -30 -31]\n",
      " [ -9   0 -10  -7 -31 -22 -32 -29 -24 -15 -25 -22 -28 -19 -29 -26]\n",
      " [-11 -10   0  -3 -33 -32 -22 -25 -26 -25 -15 -18 -30 -29 -19 -22]\n",
      " [-12  -7  -3   0 -34 -29 -25 -22 -27 -22 -18 -15 -31 -26 -22 -19]\n",
      " [-22 -31 -33 -34   0  -9 -11 -12 -17 -26 -28 -29 -12 -21 -23 -24]\n",
      " [-31 -22 -32 -29  -9   0 -10  -7 -24 -17 -27 -24 -21 -12 -22 -19]\n",
      " [-33 -32 -22 -25 -11 -10   0  -3 -28 -27 -17 -20 -23 -22 -12 -15]\n",
      " [-34 -29 -25 -22 -12  -7  -3   0 -29 -24 -20 -17 -24 -19 -15 -12]\n",
      " [-15 -24 -26 -27 -17 -24 -28 -29   0  -9 -11 -12 -13 -22 -24 -25]\n",
      " [-24 -15 -25 -22 -26 -17 -27 -24  -9   0 -10  -7 -22 -13 -23 -20]\n",
      " [-26 -25 -15 -18 -28 -27 -17 -20 -11 -10   0  -3 -24 -23 -13 -16]\n",
      " [-27 -22 -18 -15 -29 -24 -20 -17 -12  -7  -3   0 -25 -20 -16 -13]\n",
      " [-19 -28 -30 -31 -12 -21 -23 -24 -13 -22 -24 -25   0  -9 -11 -12]\n",
      " [-28 -19 -29 -26 -21 -12 -22 -19 -22 -13 -23 -20  -9   0 -10  -7]\n",
      " [-30 -29 -19 -22 -23 -22 -12 -15 -24 -23 -13 -16 -11 -10   0  -3]\n",
      " [-31 -26 -22 -19 -24 -19 -15 -12 -25 -20 -16 -13 -12  -7  -3   0]]\n",
      "Finished 17/22\n"
     ]
    },
    {
     "name": "stderr",
     "output_type": "stream",
     "text": [
      "/Users/kostadindev/.conda/envs/constituency_parse/lib/python3.9/site-packages/torch/distributions/distribution.py:44: UserWarning: <class 'torch_struct.distributions.TreeCRF'> does not define `arg_constraints`. Please set `arg_constraints = {}` or initialize the distribution with `validate_args=False` to turn off validation.\n",
      "  warnings.warn(f'{self.__class__} does not define `arg_constraints`. ' +\n"
     ]
    },
    {
     "name": "stdout",
     "output_type": "stream",
     "text": [
      "[[   0  -89  -98 ... -102 -113 -116]\n",
      " [ -89    0  -45 ...  -15  -60  -56]\n",
      " [ -98  -45    0 ...  -60  -15  -22]\n",
      " ...\n",
      " [-102  -15  -60 ...    0  -45  -41]\n",
      " [-113  -60  -15 ...  -45    0   -7]\n",
      " [-116  -56  -22 ...  -41   -7    0]]\n",
      "Finished 18/22\n"
     ]
    },
    {
     "name": "stderr",
     "output_type": "stream",
     "text": [
      "/Users/kostadindev/.conda/envs/constituency_parse/lib/python3.9/site-packages/torch/distributions/distribution.py:44: UserWarning: <class 'torch_struct.distributions.TreeCRF'> does not define `arg_constraints`. Please set `arg_constraints = {}` or initialize the distribution with `validate_args=False` to turn off validation.\n",
      "  warnings.warn(f'{self.__class__} does not define `arg_constraints`. ' +\n"
     ]
    },
    {
     "name": "stdout",
     "output_type": "stream",
     "text": [
      "[[  0  -7 -36 -33  -7 -14 -43 -40 -20 -27 -56 -53  -8 -15 -44 -41 -13 -20\n",
      "  -49 -46]\n",
      " [ -7   0 -39 -36 -14  -7 -46 -43 -27 -20 -59 -56 -15  -8 -47 -44 -20 -13\n",
      "  -52 -49]\n",
      " [-36 -39   0  -3 -43 -46  -7 -10 -54 -52 -20 -23 -44 -47  -8 -11 -49 -52\n",
      "  -13 -16]\n",
      " [-33 -36  -3   0 -40 -43 -10  -7 -51 -49 -23 -20 -41 -44 -11  -8 -46 -49\n",
      "  -16 -13]\n",
      " [ -7 -14 -43 -40   0  -7 -36 -33 -19 -26 -55 -52  -6 -13 -42 -39 -13 -20\n",
      "  -49 -46]\n",
      " [-14  -7 -46 -43  -7   0 -39 -36 -26 -19 -58 -55 -13  -6 -45 -42 -20 -13\n",
      "  -52 -49]\n",
      " [-43 -46  -7 -10 -36 -39   0  -3 -51 -51 -19 -22 -42 -45  -6  -9 -49 -52\n",
      "  -13 -16]\n",
      " [-40 -43 -10  -7 -33 -36  -3   0 -49 -48 -22 -19 -39 -42  -9  -6 -46 -49\n",
      "  -16 -13]\n",
      " [-20 -27 -54 -51 -19 -26 -51 -49   0  -7 -36 -33 -14 -21 -46 -44 -11 -18\n",
      "  -47 -44]\n",
      " [-27 -20 -52 -49 -26 -19 -51 -48  -7   0 -39 -36 -21 -14 -46 -43 -18 -11\n",
      "  -50 -47]\n",
      " [-56 -59 -20 -23 -55 -58 -19 -22 -36 -39   0  -3 -50 -53 -14 -17 -47 -50\n",
      "  -11 -14]\n",
      " [-53 -56 -23 -20 -52 -55 -22 -19 -33 -36  -3   0 -47 -50 -17 -14 -44 -47\n",
      "  -14 -11]\n",
      " [ -8 -15 -44 -41  -6 -13 -42 -39 -14 -21 -50 -47   0  -7 -36 -33 -13 -20\n",
      "  -49 -46]\n",
      " [-15  -8 -47 -44 -13  -6 -45 -42 -21 -14 -53 -50  -7   0 -39 -36 -20 -13\n",
      "  -52 -49]\n",
      " [-44 -47  -8 -11 -42 -45  -6  -9 -46 -46 -14 -17 -36 -39   0  -3 -49 -52\n",
      "  -13 -16]\n",
      " [-41 -44 -11  -8 -39 -42  -9  -6 -44 -43 -17 -14 -33 -36  -3   0 -46 -49\n",
      "  -16 -13]\n",
      " [-13 -20 -49 -46 -13 -20 -49 -46 -11 -18 -47 -44 -13 -20 -49 -46   0  -7\n",
      "  -36 -33]\n",
      " [-20 -13 -52 -49 -20 -13 -52 -49 -18 -11 -50 -47 -20 -13 -52 -49  -7   0\n",
      "  -39 -36]\n",
      " [-49 -52 -13 -16 -49 -52 -13 -16 -47 -50 -11 -14 -49 -52 -13 -16 -36 -39\n",
      "    0  -3]\n",
      " [-46 -49 -16 -13 -46 -49 -16 -13 -44 -47 -14 -11 -46 -49 -16 -13 -33 -36\n",
      "   -3   0]]\n",
      "Finished 19/22\n"
     ]
    },
    {
     "name": "stderr",
     "output_type": "stream",
     "text": [
      "/Users/kostadindev/.conda/envs/constituency_parse/lib/python3.9/site-packages/torch/distributions/distribution.py:44: UserWarning: <class 'torch_struct.distributions.TreeCRF'> does not define `arg_constraints`. Please set `arg_constraints = {}` or initialize the distribution with `validate_args=False` to turn off validation.\n",
      "  warnings.warn(f'{self.__class__} does not define `arg_constraints`. ' +\n"
     ]
    },
    {
     "name": "stdout",
     "output_type": "stream",
     "text": [
      "[[  0  -7 -21 -62 -64 -14 -21 -34 -76 -77  -6 -13 -27 -68 -70 -14 -21 -35\n",
      "  -76 -78]\n",
      " [ -7   0 -14 -56 -57 -21 -14 -28 -70 -71 -13  -6 -20 -62 -63 -21 -14 -28\n",
      "  -70 -71]\n",
      " [-21 -14   0 -44 -45 -35 -28 -14 -58 -59 -27 -20  -6 -50 -51 -35 -28 -14\n",
      "  -58 -59]\n",
      " [-62 -56 -44   0  -5 -76 -70 -58 -14 -19 -68 -62 -50  -6 -11 -76 -70 -58\n",
      "  -14 -19]\n",
      " [-64 -57 -45  -5   0 -78 -71 -59 -19 -14 -70 -63 -51 -11  -6 -78 -71 -59\n",
      "  -19 -14]\n",
      " [-14 -21 -35 -76 -78   0  -7 -21 -62 -64 -15 -22 -36 -77 -79 -21 -28 -42\n",
      "  -83 -85]\n",
      " [-21 -14 -28 -70 -71  -7   0 -14 -56 -57 -22 -15 -29 -71 -72 -28 -21 -35\n",
      "  -77 -78]\n",
      " [-34 -28 -14 -58 -59 -21 -14   0 -44 -45 -31 -26 -15 -59 -60 -40 -34 -21\n",
      "  -65 -66]\n",
      " [-76 -70 -58 -14 -19 -62 -56 -44   0  -5 -75 -70 -59 -15 -20 -83 -77 -65\n",
      "  -21 -26]\n",
      " [-77 -71 -59 -19 -14 -64 -57 -45  -5   0 -74 -69 -58 -20 -15 -83 -77 -66\n",
      "  -26 -21]\n",
      " [ -6 -13 -27 -68 -70 -15 -22 -31 -75 -74   0  -7 -21 -62 -64 -14 -21 -35\n",
      "  -76 -78]\n",
      " [-13  -6 -20 -62 -63 -22 -15 -26 -70 -69  -7   0 -14 -56 -57 -21 -14 -28\n",
      "  -70 -71]\n",
      " [-27 -20  -6 -50 -51 -36 -29 -15 -59 -58 -21 -14   0 -44 -45 -35 -28 -14\n",
      "  -58 -59]\n",
      " [-68 -62 -50  -6 -11 -77 -71 -59 -15 -20 -62 -56 -44   0  -5 -76 -70 -58\n",
      "  -14 -19]\n",
      " [-70 -63 -51 -11  -6 -79 -72 -60 -20 -15 -64 -57 -45  -5   0 -78 -71 -59\n",
      "  -19 -14]\n",
      " [-14 -21 -35 -76 -78 -21 -28 -40 -83 -83 -14 -21 -35 -76 -78   0  -7 -21\n",
      "  -62 -64]\n",
      " [-21 -14 -28 -70 -71 -28 -21 -34 -77 -77 -21 -14 -28 -70 -71  -7   0 -14\n",
      "  -56 -57]\n",
      " [-35 -28 -14 -58 -59 -42 -35 -21 -65 -66 -35 -28 -14 -58 -59 -21 -14   0\n",
      "  -44 -45]\n",
      " [-76 -70 -58 -14 -19 -83 -77 -65 -21 -26 -76 -70 -58 -14 -19 -62 -56 -44\n",
      "    0  -5]\n",
      " [-78 -71 -59 -19 -14 -85 -78 -66 -26 -21 -78 -71 -59 -19 -14 -64 -57 -45\n",
      "   -5   0]]\n",
      "Finished 20/22\n"
     ]
    },
    {
     "name": "stderr",
     "output_type": "stream",
     "text": [
      "/Users/kostadindev/.conda/envs/constituency_parse/lib/python3.9/site-packages/torch/distributions/distribution.py:44: UserWarning: <class 'torch_struct.distributions.TreeCRF'> does not define `arg_constraints`. Please set `arg_constraints = {}` or initialize the distribution with `validate_args=False` to turn off validation.\n",
      "  warnings.warn(f'{self.__class__} does not define `arg_constraints`. ' +\n"
     ]
    },
    {
     "name": "stdout",
     "output_type": "stream",
     "text": [
      "[[  0 -62 -23 ... -42 -40 -38]\n",
      " [-62   0 -54 ... -76 -77 -76]\n",
      " [-23 -54   0 ... -22 -27 -30]\n",
      " ...\n",
      " [-42 -76 -22 ...   0  -5  -8]\n",
      " [-40 -77 -27 ...  -5   0  -3]\n",
      " [-38 -76 -30 ...  -8  -3   0]]\n",
      "Finished 21/22\n"
     ]
    },
    {
     "name": "stderr",
     "output_type": "stream",
     "text": [
      "/Users/kostadindev/.conda/envs/constituency_parse/lib/python3.9/site-packages/torch/distributions/distribution.py:44: UserWarning: <class 'torch_struct.distributions.TreeCRF'> does not define `arg_constraints`. Please set `arg_constraints = {}` or initialize the distribution with `validate_args=False` to turn off validation.\n",
      "  warnings.warn(f'{self.__class__} does not define `arg_constraints`. ' +\n"
     ]
    },
    {
     "name": "stdout",
     "output_type": "stream",
     "text": [
      "[[  0  -9 -12  -9 -12  -9 -18 -21 -18 -21 -13 -22 -25 -22 -25 -15 -24 -27\n",
      "  -24 -27]\n",
      " [ -9   0  -3   0  -3 -18  -9 -12  -9 -12 -22 -13 -16 -13 -16 -24 -15 -18\n",
      "  -15 -18]\n",
      " [-12  -3   0  -3   0 -21 -12  -9 -12  -9 -25 -16 -13 -16 -13 -27 -18 -15\n",
      "  -18 -15]\n",
      " [ -9   0  -3   0  -3 -18  -9 -12  -9 -12 -22 -13 -16 -13 -16 -24 -15 -18\n",
      "  -15 -18]\n",
      " [-12  -3   0  -3   0 -21 -12  -9 -12  -9 -25 -16 -13 -16 -13 -27 -18 -15\n",
      "  -18 -15]\n",
      " [ -9 -18 -21 -18 -21   0  -9 -12  -9 -12 -13 -22 -25 -22 -25 -15 -24 -27\n",
      "  -24 -27]\n",
      " [-18  -9 -12  -9 -12  -9   0  -3   0  -3 -22 -13 -16 -13 -16 -24 -15 -18\n",
      "  -15 -18]\n",
      " [-21 -12  -9 -12  -9 -12  -3   0  -3   0 -25 -16 -13 -16 -13 -27 -18 -15\n",
      "  -18 -15]\n",
      " [-18  -9 -12  -9 -12  -9   0  -3   0  -3 -22 -13 -16 -13 -16 -24 -15 -18\n",
      "  -15 -18]\n",
      " [-21 -12  -9 -12  -9 -12  -3   0  -3   0 -25 -16 -13 -16 -13 -27 -18 -15\n",
      "  -18 -15]\n",
      " [-13 -22 -25 -22 -25 -13 -22 -25 -22 -25   0  -9 -12  -9 -12  -6 -15 -18\n",
      "  -15 -18]\n",
      " [-22 -13 -16 -13 -16 -22 -13 -16 -13 -16  -9   0  -3   0  -3 -15  -6  -9\n",
      "   -6  -9]\n",
      " [-25 -16 -13 -16 -13 -25 -16 -13 -16 -13 -12  -3   0  -3   0 -18  -9  -6\n",
      "   -9  -6]\n",
      " [-22 -13 -16 -13 -16 -22 -13 -16 -13 -16  -9   0  -3   0  -3 -15  -6  -9\n",
      "   -6  -9]\n",
      " [-25 -16 -13 -16 -13 -25 -16 -13 -16 -13 -12  -3   0  -3   0 -18  -9  -6\n",
      "   -9  -6]\n",
      " [-15 -24 -27 -24 -27 -15 -24 -27 -24 -27  -6 -15 -18 -15 -18   0  -9 -12\n",
      "   -9 -12]\n",
      " [-24 -15 -18 -15 -18 -24 -15 -18 -15 -18 -15  -6  -9  -6  -9  -9   0  -3\n",
      "    0  -3]\n",
      " [-27 -18 -15 -18 -15 -27 -18 -15 -18 -15 -18  -9  -6  -9  -6 -12  -3   0\n",
      "   -3   0]\n",
      " [-24 -15 -18 -15 -18 -24 -15 -18 -15 -18 -15  -6  -9  -6  -9  -9   0  -3\n",
      "    0  -3]\n",
      " [-27 -18 -15 -18 -15 -27 -18 -15 -18 -15 -18  -9  -6  -9  -6 -12  -3   0\n",
      "   -3   0]]\n",
      "Finished 22/22\n"
     ]
    }
   ],
   "source": [
    "if __name__ == '__main__':\n",
    "    nlp = spacy.load('en_core_web_sm')\n",
    "    nlp.add_pipe('benepar', config={'model': 'benepar_en3'})\n",
    "    sentences = pd.read_csv(\"sentences.csv\")\n",
    "    sentences = sentences.to_numpy().squeeze()\n",
    "    signs = [',', ':', ';', '.', '!', '?']\n",
    "    recursive = True\n",
    "\n",
    "\n",
    "    entries = []\n",
    "    for idx, sentence in enumerate(sentences):\n",
    "        entries.append(parse_sentence(sentence, recursive))\n",
    "        print(f\"Finished {idx}/{len(sentences)-1}\")\n",
    "    df = pd.DataFrame(entries, columns =['sentence', 'questions', 'answers','removed', 'phrases'])\n",
    "    df.to_csv('parsed_sentences.csv')"
   ],
   "metadata": {
    "collapsed": false,
    "pycharm": {
     "name": "#%%\n"
    }
   }
  },
  {
   "cell_type": "code",
   "execution_count": 70,
   "outputs": [
    {
     "name": "stdout",
     "output_type": "stream",
     "text": [
      "5\n"
     ]
    }
   ],
   "source": [
    "# df['answers'].apply(lambda x:len(x))\n",
    "# pd_print_entry(df, 21)\n",
    "print(len(entries[0]))\n",
    "df = pd.DataFrame(entries, columns =['sentence', 'questions', 'answers','removed', 'phrases'])\n",
    "#df[['sentence', 'questions', 'answers', 'phrases']]\n"
   ],
   "metadata": {
    "collapsed": false,
    "pycharm": {
     "name": "#%%\n"
    }
   }
  },
  {
   "cell_type": "code",
   "execution_count": 71,
   "outputs": [
    {
     "name": "stderr",
     "output_type": "stream",
     "text": [
      "/Users/kostadindev/.conda/envs/constituency_parse/lib/python3.9/site-packages/torch/distributions/distribution.py:44: UserWarning: <class 'torch_struct.distributions.TreeCRF'> does not define `arg_constraints`. Please set `arg_constraints = {}` or initialize the distribution with `validate_args=False` to turn off validation.\n",
      "  warnings.warn(f'{self.__class__} does not define `arg_constraints`. ' +\n"
     ]
    },
    {
     "name": "stdout",
     "output_type": "stream",
     "text": [
      "[[  0 -21 -18 -23 -44 -41 -10 -31 -28 -13 -34 -31 -10 -31 -28]\n",
      " [-21   0  -3 -39 -23 -26 -31 -10 -13 -34 -13 -16 -31 -10 -13]\n",
      " [-18  -3   0 -36 -26 -23 -28 -13 -10 -31 -16 -13 -28 -13 -10]\n",
      " [-23 -39 -36   0 -21 -18 -17 -30 -30 -12 -33 -30 -23 -38 -37]\n",
      " [-44 -23 -26 -21   0  -3 -38 -17 -20 -33 -12 -15 -44 -23 -26]\n",
      " [-41 -26 -23 -18  -3   0 -35 -20 -17 -30 -15 -12 -41 -26 -23]\n",
      " [-10 -31 -28 -17 -38 -35   0 -21 -18 -13 -34 -31  -9 -30 -27]\n",
      " [-31 -10 -13 -30 -17 -20 -21   0  -3 -34 -13 -16 -30  -9 -12]\n",
      " [-28 -13 -10 -30 -20 -17 -18  -3   0 -31 -16 -13 -27 -12  -9]\n",
      " [-13 -34 -31 -12 -33 -30 -13 -34 -31   0 -21 -18 -13 -34 -31]\n",
      " [-34 -13 -16 -33 -12 -15 -34 -13 -16 -21   0  -3 -34 -13 -16]\n",
      " [-31 -16 -13 -30 -15 -12 -31 -16 -13 -18  -3   0 -31 -16 -13]\n",
      " [-10 -31 -28 -23 -44 -41  -9 -30 -27 -13 -34 -31   0 -21 -18]\n",
      " [-31 -10 -13 -38 -23 -26 -30  -9 -12 -34 -13 -16 -21   0  -3]\n",
      " [-28 -13 -10 -37 -26 -23 -27 -12  -9 -31 -16 -13 -18  -3   0]]\n"
     ]
    },
    {
     "name": "stderr",
     "output_type": "stream",
     "text": [
      "/Users/kostadindev/.conda/envs/constituency_parse/lib/python3.9/site-packages/sklearn/cluster/_affinity_propagation.py:250: ConvergenceWarning: Affinity propagation did not converge, this model will not have any cluster centers.\n",
      "  warnings.warn(\n"
     ]
    },
    {
     "data": {
      "text/plain": "['If a duplicate exists, an error of NFS4ERR_EXIST is returned as the status.',\n ['What If a duplicate exists?'],\n ['<np>the status<np> <vp>exists<vp>',\n  '<np>the status<np> <vp>returned as the status<vp>',\n  '<np>an error of NFS4ERR_EXIST<np> <vp>returned as the status<vp>',\n  '<np>NFS4ERR_EXIST<np> <vp>exists<vp>',\n  '<np>NFS4ERR_EXIST<np> <vp>returned as the status<vp>'],\n ['<np>a duplicate<np> <vp>exists<vp>',\n  '<np>a duplicate<np> <vp>is returned as the status<vp>',\n  '<np>a duplicate<np> <vp>returned as the status<vp>',\n  '<np>an error of NFS4ERR_EXIST<np> <vp>exists<vp>',\n  '<np>an error of NFS4ERR_EXIST<np> <vp>is returned as the status<vp>',\n  '<np>an error<np> <vp>exists<vp>',\n  '<np>an error<np> <vp>is returned as the status<vp>',\n  '<np>an error<np> <vp>returned as the status<vp>',\n  '<np>NFS4ERR_EXIST<np> <vp>is returned as the status<vp>',\n  '<np>the status<np> <vp>is returned as the status<vp>'],\n {'SBAR': [If a duplicate exists],\n  'S': [a duplicate exists],\n  'NP': [a duplicate,\n   an error of NFS4ERR_EXIST,\n   an error,\n   NFS4ERR_EXIST,\n   the status],\n  'VP': [exists, is returned as the status, returned as the status],\n  'PP': [of NFS4ERR_EXIST, as the status]}]"
     },
     "execution_count": 71,
     "metadata": {},
     "output_type": "execute_result"
    }
   ],
   "source": [
    "#df = pd.read_csv('parsed_sentences.csv')\n",
    "parse_sentence(df['sentence'].iloc[8])\n",
    "# parse_sentence(df['sentence'].iloc[8])"
   ],
   "metadata": {
    "collapsed": false,
    "pycharm": {
     "name": "#%%\n"
    }
   }
  },
  {
   "cell_type": "code",
   "execution_count": null,
   "outputs": [],
   "source": [],
   "metadata": {
    "collapsed": false,
    "pycharm": {
     "name": "#%%\n"
    }
   }
  }
 ],
 "metadata": {
  "kernelspec": {
   "display_name": "Python 3",
   "language": "python",
   "name": "python3"
  },
  "language_info": {
   "codemirror_mode": {
    "name": "ipython",
    "version": 2
   },
   "file_extension": ".py",
   "mimetype": "text/x-python",
   "name": "python",
   "nbconvert_exporter": "python",
   "pygments_lexer": "ipython2",
   "version": "2.7.6"
  }
 },
 "nbformat": 4,
 "nbformat_minor": 0
}