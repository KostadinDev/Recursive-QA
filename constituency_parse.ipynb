{
 "cells": [
  {
   "cell_type": "code",
   "execution_count": 214,
   "metadata": {
    "collapsed": true
   },
   "outputs": [
    {
     "name": "stderr",
     "output_type": "stream",
     "text": [
      "[nltk_data] Downloading package benepar_en3 to\n",
      "[nltk_data]     /Users/kostadindev/nltk_data...\n",
      "[nltk_data]   Package benepar_en3 is already up-to-date!\n",
      "/Users/kostadindev/.conda/envs/constituency_parse/lib/python3.9/site-packages/torch/distributions/distribution.py:44: UserWarning: <class 'torch_struct.distributions.TreeCRF'> does not define `arg_constraints`. Please set `arg_constraints = {}` or initialize the distribution with `validate_args=False` to turn off validation.\n",
      "  warnings.warn(f'{self.__class__} does not define `arg_constraints`. ' +\n"
     ]
    }
   ],
   "source": [
    "import benepar, spacy\n",
    "import nltk\n",
    "\n",
    "benepar.download('benepar_en3')\n",
    "\n",
    "nlp = spacy.load('en_core_web_sm')\n",
    "nlp.add_pipe('benepar', config={'model': 'benepar_en3'})\n",
    "doc = nlp('The time for action is now. It is never too late to do something.')\n",
    "sent = list(doc.sents)[0]"
   ]
  },
  {
   "cell_type": "code",
   "execution_count": 254,
   "outputs": [],
   "source": [
    "#list(sent._.children)[3]\n",
    "#print(list(sent._.children)[2].label)\n",
    "# for i in range(len(list(sent._.children))):\n",
    "#     print(list(sent._.children[i]), list(sent._._labels)[i])\n",
    "# list(sent._.children)\n",
    "import pandas as pd\n",
    "from pprint import pprint as print\n",
    "import numpy as np\n",
    "from sklearn.cluster import AffinityPropagation\n",
    "import distance\n",
    "sentences = pd.read_csv(\"sentences.csv\")\n",
    "sentences = sentences.to_numpy().squeeze()\n",
    "signs = [',', ':', ';', '.', '!', '?']\n",
    "recursive = True\n",
    "max_similarity= 5"
   ],
   "metadata": {
    "collapsed": false,
    "pycharm": {
     "name": "#%%\n"
    }
   }
  },
  {
   "cell_type": "code",
   "execution_count": 255,
   "outputs": [],
   "source": [
    "def get_phrases(sent, recursive = False):\n",
    "    children = list(sent._.children)\n",
    "    #VP, NP, SBAR, ADVP, PP = [], [], [], [], []\n",
    "    phrases = {}\n",
    "    for i in range(len(children)):\n",
    "        if str(children[i]) not in signs:\n",
    "            try:\n",
    "                label = children[i]._.labels[0]\n",
    "            except:\n",
    "                label= \"stop\"\n",
    "            # print(children[i], label)\n",
    "            # print(children[i], children[i]._.labels)\n",
    "            # generate_questions(children[i])\n",
    "            if label != 'stop':\n",
    "                if label not in phrases.keys():\n",
    "                    phrases[label] = []\n",
    "                phrases[label].append(children[i])\n",
    "                new_phrases= get_phrases(children[i], recursive= recursive)\n",
    "                for key in new_phrases.keys():\n",
    "                    if key not in phrases.keys():\n",
    "                        phrases[key] = []\n",
    "                    phrases[key].extend(new_phrases[key])\n",
    "    return phrases\n"
   ],
   "metadata": {
    "collapsed": false,
    "pycharm": {
     "name": "#%%\n"
    }
   }
  },
  {
   "cell_type": "code",
   "execution_count": 279,
   "outputs": [],
   "source": [
    "def get_QA(phrases):\n",
    "    questions, answers = [], []\n",
    "    if 'SBAR' in phrases.keys():\n",
    "        for sbar in phrases['SBAR']:\n",
    "            questions.append(f\"Q: What {str(sbar).lower()}?\")\n",
    "            if 'NP' in phrases.keys():\n",
    "                for np in phrases['NP']:\n",
    "                    if 'VP' in phrases.keys():\n",
    "                        for vp in phrases['VP']:\n",
    "                            answers.append(f'A: ${np}$ @{vp}@')\n",
    "    return questions, answers"
   ],
   "metadata": {
    "collapsed": false,
    "pycharm": {
     "name": "#%%\n"
    }
   }
  },
  {
   "cell_type": "code",
   "execution_count": 280,
   "outputs": [],
   "source": [
    "def edit_distance(s1, s2):\n",
    "    if len(s1) > len(s2):\n",
    "        s1, s2 = s2, s1\n",
    "\n",
    "    distances = range(len(s1) + 1)\n",
    "    for i2, c2 in enumerate(s2):\n",
    "        distances_ = [i2+1]\n",
    "        for i1, c1 in enumerate(s1):\n",
    "            if c1 == c2:\n",
    "                distances_.append(distances[i1])\n",
    "            else:\n",
    "                distances_.append(1 + min((distances[i1], distances[i1 + 1], distances_[-1])))\n",
    "        distances = distances_\n",
    "    return distances[-1]"
   ],
   "metadata": {
    "collapsed": false,
    "pycharm": {
     "name": "#%%\n"
    }
   }
  },
  {
   "cell_type": "code",
   "execution_count": 310,
   "outputs": [],
   "source": [
    "def filter_edit_distance(words):\n",
    "    if len(words) == 0:\n",
    "        return []\n",
    "    filtered_words = []\n",
    "    words = np.asarray(words) #So that indexing with a list will work\n",
    "    lev_similarity = -1*np.array([[distance.levenshtein(w1,w2) for w1 in words] for w2 in words])\n",
    "\n",
    "    affprop = AffinityPropagation(affinity=\"precomputed\", damping=0.5)\n",
    "    affprop.fit(lev_similarity)\n",
    "    for cluster_id in np.unique(affprop.labels_):\n",
    "        #exemplar = words[affprop.cluster_centers_indices_[cluster_id]]\n",
    "        cluster = np.unique(words[np.nonzero(affprop.labels_==cluster_id)])\n",
    "        filtered_words.append(max(cluster, key = lambda x: len(x)))\n",
    "    return filtered_words"
   ],
   "metadata": {
    "collapsed": false,
    "pycharm": {
     "name": "#%%\n"
    }
   }
  },
  {
   "cell_type": "code",
   "execution_count": 311,
   "outputs": [],
   "source": [
    "def filter_not_in_question(answers, question):\n",
    "    filtered_answers = []\n",
    "    for answer in answers:\n",
    "        vp = answer.split('@')[1]\n",
    "        np = answer.split('$')[1]\n",
    "        if vp not in question and np not in question:\n",
    "            filtered_answers.append(answer)\n",
    "    return filtered_answers"
   ],
   "metadata": {
    "collapsed": false,
    "pycharm": {
     "name": "#%%\n"
    }
   }
  },
  {
   "cell_type": "code",
   "execution_count": 312,
   "outputs": [
    {
     "name": "stdout",
     "output_type": "stream",
     "text": [
      "['Q: What if the underlying file system at the server is only accessible in a '\n",
      " 'read-only mode and the open request has specified open4_share_access_write '\n",
      " 'or open4_share_access_both?']\n",
      "['A: $OPEN4_SHARE_ACCESS_WRITE or OPEN4_SHARE_ACCESS_BOTH$ @will return NFS4ERR_ROFS to indicate a read-only file system@',\n",
      " 'A: $OPEN4_SHARE_ACCESS_WRITE or OPEN4_SHARE_ACCESS_BOTH$ @has specified OPEN4_SHARE_ACCESS_WRITE or OPEN4_SHARE_ACCESS_BOTH@',\n",
      " 'A: $OPEN4_SHARE_ACCESS_WRITE$ @will return NFS4ERR_ROFS to indicate a read-only file system@']\n",
      "'---------------------------------------------------------------'\n",
      "If the object does not exist, the server creates the object and stores the verifier in a stable storage.\n"
     ]
    },
    {
     "name": "stderr",
     "output_type": "stream",
     "text": [
      "/Users/kostadindev/.conda/envs/constituency_parse/lib/python3.9/site-packages/torch/distributions/distribution.py:44: UserWarning: <class 'torch_struct.distributions.TreeCRF'> does not define `arg_constraints`. Please set `arg_constraints = {}` or initialize the distribution with `validate_args=False` to turn off validation.\n",
      "  warnings.warn(f'{self.__class__} does not define `arg_constraints`. ' +\n"
     ]
    },
    {
     "name": "stdout",
     "output_type": "stream",
     "text": [
      "['Q: What if the object does not exist?']\n",
      "['A: $a stable storage$ @creates the object@',\n",
      " 'A: $a stable storage$ @creates the object and stores the verifier in a stable storage@',\n",
      " 'A: $a stable storage$ @stores the verifier in a stable storage@']\n",
      "'---------------------------------------------------------------'\n",
      "If the stored verifier does not match, then an error of NFS4ERR_EXIST is returned.\n"
     ]
    },
    {
     "name": "stderr",
     "output_type": "stream",
     "text": [
      "/Users/kostadindev/.conda/envs/constituency_parse/lib/python3.9/site-packages/torch/distributions/distribution.py:44: UserWarning: <class 'torch_struct.distributions.TreeCRF'> does not define `arg_constraints`. Please set `arg_constraints = {}` or initialize the distribution with `validate_args=False` to turn off validation.\n",
      "  warnings.warn(f'{self.__class__} does not define `arg_constraints`. ' +\n"
     ]
    },
    {
     "name": "stdout",
     "output_type": "stream",
     "text": [
      "['Q: What if the stored verifier does not match?']\n",
      "[]\n",
      "'---------------------------------------------------------------'\n"
     ]
    },
    {
     "name": "stderr",
     "output_type": "stream",
     "text": [
      "/Users/kostadindev/.conda/envs/constituency_parse/lib/python3.9/site-packages/torch/distributions/distribution.py:44: UserWarning: <class 'torch_struct.distributions.TreeCRF'> does not define `arg_constraints`. Please set `arg_constraints = {}` or initialize the distribution with `validate_args=False` to turn off validation.\n",
      "  warnings.warn(f'{self.__class__} does not define `arg_constraints`. ' +\n"
     ]
    },
    {
     "name": "stdout",
     "output_type": "stream",
     "text": [
      "If the server cannot support these exclusive create semantics, possibly because of the requirement to commit the verifier to stable storage, it should fail the OPEN request with the error NFS4ERR_NOTSUPP.\n",
      "['Q: What if the server cannot support these exclusive create semantics, '\n",
      " 'possibly because of the requirement to commit the verifier to stable '\n",
      " 'storage,?']\n",
      "[]\n",
      "'---------------------------------------------------------------'\n",
      "If the verifier do not match, the request is rejected with the status NFS4ERR_EXIST.\n"
     ]
    },
    {
     "name": "stderr",
     "output_type": "stream",
     "text": [
      "/Users/kostadindev/.conda/envs/constituency_parse/lib/python3.9/site-packages/torch/distributions/distribution.py:44: UserWarning: <class 'torch_struct.distributions.TreeCRF'> does not define `arg_constraints`. Please set `arg_constraints = {}` or initialize the distribution with `validate_args=False` to turn off validation.\n",
      "  warnings.warn(f'{self.__class__} does not define `arg_constraints`. ' +\n"
     ]
    },
    {
     "name": "stdout",
     "output_type": "stream",
     "text": [
      "['Q: What if the verifier do not match?']\n",
      "['A: $the status NFS4ERR_EXIST$ @is rejected with the status NFS4ERR_EXIST@']\n",
      "'---------------------------------------------------------------'\n",
      "If the requester is not authorized to READ or WRITE(depending on the share_access value), the server must return NFS4ERR_ACCESS.\n"
     ]
    },
    {
     "name": "stderr",
     "output_type": "stream",
     "text": [
      "/Users/kostadindev/.conda/envs/constituency_parse/lib/python3.9/site-packages/torch/distributions/distribution.py:44: UserWarning: <class 'torch_struct.distributions.TreeCRF'> does not define `arg_constraints`. Please set `arg_constraints = {}` or initialize the distribution with `validate_args=False` to turn off validation.\n",
      "  warnings.warn(f'{self.__class__} does not define `arg_constraints`. ' +\n"
     ]
    },
    {
     "name": "stdout",
     "output_type": "stream",
     "text": [
      "['Q: What if the requester is not authorized to read or write(depending on the '\n",
      " 'share_access value)?']\n",
      "[]\n",
      "'---------------------------------------------------------------'\n",
      "If the component provided to OPEN resolves to something other than a regular file (or a named attribute), an error will be returned to the client.\n"
     ]
    },
    {
     "name": "stderr",
     "output_type": "stream",
     "text": [
      "/Users/kostadindev/.conda/envs/constituency_parse/lib/python3.9/site-packages/torch/distributions/distribution.py:44: UserWarning: <class 'torch_struct.distributions.TreeCRF'> does not define `arg_constraints`. Please set `arg_constraints = {}` or initialize the distribution with `validate_args=False` to turn off validation.\n",
      "  warnings.warn(f'{self.__class__} does not define `arg_constraints`. ' +\n"
     ]
    },
    {
     "name": "stdout",
     "output_type": "stream",
     "text": [
      "['Q: What if the component provided to open resolves to something other than a '\n",
      " 'regular file (or a named attribute)?']\n",
      "['A: $the component provided to OPEN$ @will be returned to the client@']\n",
      "'---------------------------------------------------------------'\n",
      "If it is a directory, NFS4ERR_ISDIR is returned; otherwise, NFS4ERR_SYMLINK is returned.\n",
      "['Q: What if it is a directory?']\n",
      "[]\n",
      "'---------------------------------------------------------------'\n"
     ]
    },
    {
     "name": "stderr",
     "output_type": "stream",
     "text": [
      "/Users/kostadindev/.conda/envs/constituency_parse/lib/python3.9/site-packages/torch/distributions/distribution.py:44: UserWarning: <class 'torch_struct.distributions.TreeCRF'> does not define `arg_constraints`. Please set `arg_constraints = {}` or initialize the distribution with `validate_args=False` to turn off validation.\n",
      "  warnings.warn(f'{self.__class__} does not define `arg_constraints`. ' +\n"
     ]
    }
   ],
   "source": [
    "def main(filters):\n",
    "    for sentence in sentences:\n",
    "        sent = list(nlp(sentence).sents)[0]\n",
    "        print(sent)\n",
    "        phrases = get_phrases(sent, recursive = recursive)\n",
    "        questions, answers = get_QA(phrases)\n",
    "        answers = filter_edit_distance(answers)\n",
    "        for question in questions:\n",
    "            answers = filter_not_in_question(answers, question)\n",
    "            print(questions)\n",
    "            print(answers)\n",
    "        print(\"---------------------------------------------------------------\")"
   ],
   "metadata": {
    "collapsed": false,
    "pycharm": {
     "name": "#%%\n"
    }
   }
  },
  {
   "cell_type": "code",
   "execution_count": 309,
   "outputs": [],
   "source": [
    "filters = []\n",
    "main(filters)\n"
   ],
   "metadata": {
    "collapsed": false,
    "pycharm": {
     "name": "#%%\n"
    }
   }
  }
 ],
 "metadata": {
  "kernelspec": {
   "display_name": "Python 3",
   "language": "python",
   "name": "python3"
  },
  "language_info": {
   "codemirror_mode": {
    "name": "ipython",
    "version": 2
   },
   "file_extension": ".py",
   "mimetype": "text/x-python",
   "name": "python",
   "nbconvert_exporter": "python",
   "pygments_lexer": "ipython2",
   "version": "2.7.6"
  }
 },
 "nbformat": 4,
 "nbformat_minor": 0
}