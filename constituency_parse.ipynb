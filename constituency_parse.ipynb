{
 "cells": [
  {
   "cell_type": "code",
   "execution_count": 1,
   "metadata": {
    "collapsed": true
   },
   "outputs": [
    {
     "name": "stderr",
     "output_type": "stream",
     "text": [
      "[nltk_data] Downloading package benepar_en3 to\n",
      "[nltk_data]     /Users/kostadindev/nltk_data...\n",
      "[nltk_data]   Package benepar_en3 is already up-to-date!\n"
     ]
    },
    {
     "data": {
      "text/plain": "True"
     },
     "execution_count": 1,
     "metadata": {},
     "output_type": "execute_result"
    }
   ],
   "source": [
    "import benepar, spacy\n",
    "\n",
    "benepar.download('benepar_en3')\n"
   ]
  },
  {
   "cell_type": "code",
   "execution_count": 2,
   "outputs": [],
   "source": [
    "#list(sent._.children)[3]\n",
    "#print(list(sent._.children)[2].label)\n",
    "# for i in range(len(list(sent._.children))):\n",
    "#     print(list(sent._.children[i]), list(sent._._labels)[i])\n",
    "# list(sent._.children)\n",
    "import pandas as pd\n",
    "from pprint import pprint as pprint\n",
    "import numpy as np\n",
    "from sklearn.cluster import AffinityPropagation, KMeans\n",
    "import distance"
   ],
   "metadata": {
    "collapsed": false,
    "pycharm": {
     "name": "#%%\n"
    }
   }
  },
  {
   "cell_type": "code",
   "execution_count": 3,
   "outputs": [],
   "source": [
    "def pd_print_entry(df, index, removed=False):\n",
    "    entry = df.iloc[index]\n",
    "    print(\"Sentence: \")\n",
    "    print(entry['sentence'])\n",
    "    print(\"Questions: \")\n",
    "    print(entry['questions'])\n",
    "    print('Answers')\n",
    "    #print(entry['answers'])\n",
    "    for answer in entry['answers']:\n",
    "        print(answer)\n",
    "    if removed:\n",
    "        print('Removed')\n",
    "        #print(entry['answers'])\n",
    "        for removed in entry['removed']:\n",
    "            print(removed)\n",
    "    print('Phrases: ')\n",
    "    pprint(entry['phrases'])"
   ],
   "metadata": {
    "collapsed": false,
    "pycharm": {
     "name": "#%%\n"
    }
   }
  },
  {
   "cell_type": "code",
   "execution_count": 4,
   "outputs": [],
   "source": [
    "def get_phrases(sent, recursive=False):\n",
    "    children = list(sent._.children)\n",
    "    phrases = {}\n",
    "    for i in range(len(children)):\n",
    "        if str(children[i]) not in [',', ':', ';', '.', '!', '?']:\n",
    "            try:\n",
    "                label = children[i]._.labels[0]\n",
    "            except:\n",
    "                label = \"stop\"\n",
    "            # print(children[i], label)\n",
    "            # print(children[i], children[i]._.labels)\n",
    "            # generate_questions(children[i])\n",
    "            if label != 'stop':\n",
    "                if label not in phrases.keys():\n",
    "                    phrases[label] = []\n",
    "                phrases[label].append(children[i])\n",
    "                new_phrases = get_phrases(children[i], recursive=recursive)\n",
    "                for key in new_phrases.keys():\n",
    "                    if key not in phrases.keys():\n",
    "                        phrases[key] = []\n",
    "                    phrases[key].extend(new_phrases[key])\n",
    "    return phrases"
   ],
   "metadata": {
    "collapsed": false,
    "pycharm": {
     "name": "#%%\n"
    }
   }
  },
  {
   "cell_type": "code",
   "execution_count": 5,
   "outputs": [],
   "source": [
    "def get_QA(phrases):\n",
    "    questions, answers = [], []\n",
    "    if 'SBAR' in phrases.keys():\n",
    "        for sbar in phrases['SBAR']:\n",
    "            questions.append(f\"What {str(sbar)}?\")\n",
    "            if 'NP' in phrases.keys():\n",
    "                for np in phrases['NP']:\n",
    "                    if 'VP' in phrases.keys():\n",
    "                        for vp in phrases['VP']:\n",
    "                            answers.append(f'<np>{np}<np> <vp>{vp}<vp>')\n",
    "    if 'ADVP' in phrases.keys():\n",
    "        for advp in phrases['ADVP']:\n",
    "            questions.append(f\"What {str(advp)}\")\n",
    "    return questions, answers"
   ],
   "metadata": {
    "collapsed": false,
    "pycharm": {
     "name": "#%%\n"
    }
   }
  },
  {
   "cell_type": "code",
   "execution_count": 6,
   "outputs": [],
   "source": [
    "def edit_distance(s1, s2):\n",
    "    if len(s1) > len(s2):\n",
    "        s1, s2 = s2, s1\n",
    "\n",
    "    distances = range(len(s1) + 1)\n",
    "    for i2, c2 in enumerate(s2):\n",
    "        distances_ = [i2 + 1]\n",
    "        for i1, c1 in enumerate(s1):\n",
    "            if c1 == c2:\n",
    "                distances_.append(distances[i1])\n",
    "            else:\n",
    "                distances_.append(1 + min((distances[i1], distances[i1 + 1], distances_[-1])))\n",
    "        distances = distances_\n",
    "    return distances[-1]"
   ],
   "metadata": {
    "collapsed": false,
    "pycharm": {
     "name": "#%%\n"
    }
   }
  },
  {
   "cell_type": "code",
   "execution_count": 7,
   "outputs": [],
   "source": [
    "# TODO REVISIT USING TREE\n",
    "def filter_edit_distance(words):\n",
    "    if len(words) == 0:\n",
    "        return []\n",
    "    filtered_words = []\n",
    "    words = np.asarray(words)  #So that indexing with a list will work\n",
    "    lev_similarity = -1 * np.array([[distance.levenshtein(w1, w2) for w1 in words] for w2 in words])\n",
    "    try:\n",
    "        clustering = AffinityPropagation(affinity=\"precomputed\", damping=0.5)\n",
    "        clustering.fit(lev_similarity)\n",
    "        for cluster_id in np.unique(clustering.labels_):\n",
    "            exemplar = words[clustering.cluster_centers_indices_[cluster_id]]\n",
    "            filtered_words.append(exemplar)\n",
    "    except:\n",
    "        clustering = KMeans(n_clusters=max(int(np.sqrt(len(words))), 5), random_state=0).fit(lev_similarity)\n",
    "        for cluster_id in np.unique(clustering.labels_):\n",
    "            exemplar = np.random.choice(words[clustering.labels_ == cluster_id])\n",
    "            filtered_words.append(exemplar)\n",
    "    return filtered_words"
   ],
   "metadata": {
    "collapsed": false,
    "pycharm": {
     "name": "#%%\n"
    }
   }
  },
  {
   "cell_type": "code",
   "execution_count": 8,
   "outputs": [],
   "source": [
    "def filter_not_in_question(answers, question):\n",
    "    filtered_answers = []\n",
    "    for answer in answers:\n",
    "        if answer not in question:\n",
    "            filtered_answers.append(answer)\n",
    "    return filtered_answers"
   ],
   "metadata": {
    "collapsed": false,
    "pycharm": {
     "name": "#%%\n"
    }
   }
  },
  {
   "cell_type": "code",
   "execution_count": 9,
   "outputs": [],
   "source": [
    "def parse_sentence(sentence, recursive=True):\n",
    "    sent = list(nlp(sentence).sents)[0]\n",
    "    phrases = get_phrases(sent, recursive=recursive)\n",
    "    questions, answers = get_QA(phrases)\n",
    "    qa_pairs = []\n",
    "    filtered_answers = filter_edit_distance(answers)\n",
    "    # for question in questions:\n",
    "    #     filtered_answers = answers #filter_not_in_question(answers, question)\n",
    "    #     qa_pairs.append({'question':question, 'answers':filtered_answers})\n",
    "    return [str(sent), questions, filtered_answers, [answer for answer in answers if answer not in filtered_answers],\n",
    "            phrases]"
   ],
   "metadata": {
    "collapsed": false,
    "pycharm": {
     "name": "#%%\n"
    }
   }
  },
  {
   "cell_type": "code",
   "execution_count": 10,
   "outputs": [],
   "source": [
    "def get_answer(sentence, question):\n",
    "    import requests\n",
    "    import json\n",
    "\n",
    "    url = \"https://nlp-toolbox1.p.rapidapi.com/qa\"\n",
    "\n",
    "    payload = \"{\\n    \\\"text\\\": \\\"When the new project begins, Jennifer will lead it. \" \\\n",
    "              \" It will be our most ambitious project yet, and may be critical to our success in the coming years.\\\",\\n \" \\\n",
    "              \"   \\\"question\\\": \\\"Who will be in charge of the project?\\\"\\n}\"\n",
    "    text = \"When the new project begins, Jennifer will lead it. It will be our most ambitious project yet, and may be critical to our success in the coming years.\"\n",
    "    question = \"Who will be in charge of the project?\"\n",
    "    payload = {'text': text, 'question':question}\n",
    "    payload = json\n",
    "    # \n",
    "    # headers = {\n",
    "    #     'content-type': \"application/json\",\n",
    "    #     'x-rapidapi-host': \"nlp-toolbox1.p.rapidapi.com\",\n",
    "    #     'x-rapidapi-key': \"43b97ced76msh5c0489d156c9f03p1fc8d1jsn2489bbf83af6\"\n",
    "    #     }\n",
    "    # \n",
    "    # response = requests.request(\"POST\", url, data=payload, headers=headers)\n",
    "    # \n",
    "    # print(response.text)"
   ],
   "metadata": {
    "collapsed": false,
    "pycharm": {
     "name": "#%%\n"
    }
   }
  },
  {
   "cell_type": "code",
   "execution_count": 11,
   "outputs": [
    {
     "name": "stderr",
     "output_type": "stream",
     "text": [
      "/Users/kostadindev/.conda/envs/rfc-qa-generator/lib/python3.9/site-packages/torch/distributions/distribution.py:44: UserWarning: <class 'torch_struct.distributions.TreeCRF'> does not define `arg_constraints`. Please set `arg_constraints = {}` or initialize the distribution with `validate_args=False` to turn off validation.\n",
      "  warnings.warn(f'{self.__class__} does not define `arg_constraints`. ' +\n"
     ]
    },
    {
     "name": "stdout",
     "output_type": "stream",
     "text": [
      "Finished 0/22\n"
     ]
    },
    {
     "name": "stderr",
     "output_type": "stream",
     "text": [
      "/Users/kostadindev/.conda/envs/rfc-qa-generator/lib/python3.9/site-packages/torch/distributions/distribution.py:44: UserWarning: <class 'torch_struct.distributions.TreeCRF'> does not define `arg_constraints`. Please set `arg_constraints = {}` or initialize the distribution with `validate_args=False` to turn off validation.\n",
      "  warnings.warn(f'{self.__class__} does not define `arg_constraints`. ' +\n"
     ]
    },
    {
     "name": "stdout",
     "output_type": "stream",
     "text": [
      "Finished 1/22\n",
      "Finished 2/22\n"
     ]
    },
    {
     "name": "stderr",
     "output_type": "stream",
     "text": [
      "/Users/kostadindev/.conda/envs/rfc-qa-generator/lib/python3.9/site-packages/torch/distributions/distribution.py:44: UserWarning: <class 'torch_struct.distributions.TreeCRF'> does not define `arg_constraints`. Please set `arg_constraints = {}` or initialize the distribution with `validate_args=False` to turn off validation.\n",
      "  warnings.warn(f'{self.__class__} does not define `arg_constraints`. ' +\n"
     ]
    },
    {
     "name": "stdout",
     "output_type": "stream",
     "text": [
      "Finished 3/22\n",
      "Finished 4/22\n",
      "Finished 5/22\n"
     ]
    },
    {
     "name": "stderr",
     "output_type": "stream",
     "text": [
      "/Users/kostadindev/.conda/envs/rfc-qa-generator/lib/python3.9/site-packages/torch/distributions/distribution.py:44: UserWarning: <class 'torch_struct.distributions.TreeCRF'> does not define `arg_constraints`. Please set `arg_constraints = {}` or initialize the distribution with `validate_args=False` to turn off validation.\n",
      "  warnings.warn(f'{self.__class__} does not define `arg_constraints`. ' +\n"
     ]
    },
    {
     "name": "stdout",
     "output_type": "stream",
     "text": [
      "Finished 6/22\n"
     ]
    },
    {
     "name": "stderr",
     "output_type": "stream",
     "text": [
      "/Users/kostadindev/.conda/envs/rfc-qa-generator/lib/python3.9/site-packages/torch/distributions/distribution.py:44: UserWarning: <class 'torch_struct.distributions.TreeCRF'> does not define `arg_constraints`. Please set `arg_constraints = {}` or initialize the distribution with `validate_args=False` to turn off validation.\n",
      "  warnings.warn(f'{self.__class__} does not define `arg_constraints`. ' +\n"
     ]
    },
    {
     "name": "stdout",
     "output_type": "stream",
     "text": [
      "Finished 7/22\n"
     ]
    },
    {
     "name": "stderr",
     "output_type": "stream",
     "text": [
      "/Users/kostadindev/.conda/envs/rfc-qa-generator/lib/python3.9/site-packages/torch/distributions/distribution.py:44: UserWarning: <class 'torch_struct.distributions.TreeCRF'> does not define `arg_constraints`. Please set `arg_constraints = {}` or initialize the distribution with `validate_args=False` to turn off validation.\n",
      "  warnings.warn(f'{self.__class__} does not define `arg_constraints`. ' +\n",
      "/Users/kostadindev/.conda/envs/rfc-qa-generator/lib/python3.9/site-packages/sklearn/cluster/_affinity_propagation.py:250: ConvergenceWarning: Affinity propagation did not converge, this model will not have any cluster centers.\n",
      "  warnings.warn(\n",
      "/Users/kostadindev/.conda/envs/rfc-qa-generator/lib/python3.9/site-packages/torch/distributions/distribution.py:44: UserWarning: <class 'torch_struct.distributions.TreeCRF'> does not define `arg_constraints`. Please set `arg_constraints = {}` or initialize the distribution with `validate_args=False` to turn off validation.\n",
      "  warnings.warn(f'{self.__class__} does not define `arg_constraints`. ' +\n"
     ]
    },
    {
     "name": "stdout",
     "output_type": "stream",
     "text": [
      "Finished 8/22\n",
      "Finished 9/22\n"
     ]
    },
    {
     "name": "stderr",
     "output_type": "stream",
     "text": [
      "/Users/kostadindev/.conda/envs/rfc-qa-generator/lib/python3.9/site-packages/torch/distributions/distribution.py:44: UserWarning: <class 'torch_struct.distributions.TreeCRF'> does not define `arg_constraints`. Please set `arg_constraints = {}` or initialize the distribution with `validate_args=False` to turn off validation.\n",
      "  warnings.warn(f'{self.__class__} does not define `arg_constraints`. ' +\n"
     ]
    },
    {
     "name": "stdout",
     "output_type": "stream",
     "text": [
      "Finished 10/22\n"
     ]
    },
    {
     "name": "stderr",
     "output_type": "stream",
     "text": [
      "/Users/kostadindev/.conda/envs/rfc-qa-generator/lib/python3.9/site-packages/torch/distributions/distribution.py:44: UserWarning: <class 'torch_struct.distributions.TreeCRF'> does not define `arg_constraints`. Please set `arg_constraints = {}` or initialize the distribution with `validate_args=False` to turn off validation.\n",
      "  warnings.warn(f'{self.__class__} does not define `arg_constraints`. ' +\n"
     ]
    },
    {
     "name": "stdout",
     "output_type": "stream",
     "text": [
      "Finished 11/22\n",
      "Finished 12/22\n"
     ]
    },
    {
     "name": "stderr",
     "output_type": "stream",
     "text": [
      "/Users/kostadindev/.conda/envs/rfc-qa-generator/lib/python3.9/site-packages/torch/distributions/distribution.py:44: UserWarning: <class 'torch_struct.distributions.TreeCRF'> does not define `arg_constraints`. Please set `arg_constraints = {}` or initialize the distribution with `validate_args=False` to turn off validation.\n",
      "  warnings.warn(f'{self.__class__} does not define `arg_constraints`. ' +\n"
     ]
    },
    {
     "name": "stdout",
     "output_type": "stream",
     "text": [
      "Finished 13/22\n"
     ]
    },
    {
     "name": "stderr",
     "output_type": "stream",
     "text": [
      "/Users/kostadindev/.conda/envs/rfc-qa-generator/lib/python3.9/site-packages/torch/distributions/distribution.py:44: UserWarning: <class 'torch_struct.distributions.TreeCRF'> does not define `arg_constraints`. Please set `arg_constraints = {}` or initialize the distribution with `validate_args=False` to turn off validation.\n",
      "  warnings.warn(f'{self.__class__} does not define `arg_constraints`. ' +\n",
      "/Users/kostadindev/.conda/envs/rfc-qa-generator/lib/python3.9/site-packages/sklearn/cluster/_affinity_propagation.py:250: ConvergenceWarning: Affinity propagation did not converge, this model will not have any cluster centers.\n",
      "  warnings.warn(\n"
     ]
    },
    {
     "name": "stdout",
     "output_type": "stream",
     "text": [
      "Finished 14/22\n"
     ]
    },
    {
     "name": "stderr",
     "output_type": "stream",
     "text": [
      "/Users/kostadindev/.conda/envs/rfc-qa-generator/lib/python3.9/site-packages/torch/distributions/distribution.py:44: UserWarning: <class 'torch_struct.distributions.TreeCRF'> does not define `arg_constraints`. Please set `arg_constraints = {}` or initialize the distribution with `validate_args=False` to turn off validation.\n",
      "  warnings.warn(f'{self.__class__} does not define `arg_constraints`. ' +\n"
     ]
    },
    {
     "name": "stdout",
     "output_type": "stream",
     "text": [
      "Finished 15/22\n"
     ]
    },
    {
     "name": "stderr",
     "output_type": "stream",
     "text": [
      "/Users/kostadindev/.conda/envs/rfc-qa-generator/lib/python3.9/site-packages/torch/distributions/distribution.py:44: UserWarning: <class 'torch_struct.distributions.TreeCRF'> does not define `arg_constraints`. Please set `arg_constraints = {}` or initialize the distribution with `validate_args=False` to turn off validation.\n",
      "  warnings.warn(f'{self.__class__} does not define `arg_constraints`. ' +\n"
     ]
    },
    {
     "name": "stdout",
     "output_type": "stream",
     "text": [
      "Finished 16/22\n"
     ]
    },
    {
     "name": "stderr",
     "output_type": "stream",
     "text": [
      "/Users/kostadindev/.conda/envs/rfc-qa-generator/lib/python3.9/site-packages/torch/distributions/distribution.py:44: UserWarning: <class 'torch_struct.distributions.TreeCRF'> does not define `arg_constraints`. Please set `arg_constraints = {}` or initialize the distribution with `validate_args=False` to turn off validation.\n",
      "  warnings.warn(f'{self.__class__} does not define `arg_constraints`. ' +\n"
     ]
    },
    {
     "name": "stdout",
     "output_type": "stream",
     "text": [
      "Finished 17/22\n"
     ]
    },
    {
     "name": "stderr",
     "output_type": "stream",
     "text": [
      "/Users/kostadindev/.conda/envs/rfc-qa-generator/lib/python3.9/site-packages/torch/distributions/distribution.py:44: UserWarning: <class 'torch_struct.distributions.TreeCRF'> does not define `arg_constraints`. Please set `arg_constraints = {}` or initialize the distribution with `validate_args=False` to turn off validation.\n",
      "  warnings.warn(f'{self.__class__} does not define `arg_constraints`. ' +\n"
     ]
    },
    {
     "name": "stdout",
     "output_type": "stream",
     "text": [
      "Finished 18/22\n"
     ]
    },
    {
     "name": "stderr",
     "output_type": "stream",
     "text": [
      "/Users/kostadindev/.conda/envs/rfc-qa-generator/lib/python3.9/site-packages/torch/distributions/distribution.py:44: UserWarning: <class 'torch_struct.distributions.TreeCRF'> does not define `arg_constraints`. Please set `arg_constraints = {}` or initialize the distribution with `validate_args=False` to turn off validation.\n",
      "  warnings.warn(f'{self.__class__} does not define `arg_constraints`. ' +\n"
     ]
    },
    {
     "name": "stdout",
     "output_type": "stream",
     "text": [
      "Finished 19/22\n"
     ]
    },
    {
     "name": "stderr",
     "output_type": "stream",
     "text": [
      "/Users/kostadindev/.conda/envs/rfc-qa-generator/lib/python3.9/site-packages/torch/distributions/distribution.py:44: UserWarning: <class 'torch_struct.distributions.TreeCRF'> does not define `arg_constraints`. Please set `arg_constraints = {}` or initialize the distribution with `validate_args=False` to turn off validation.\n",
      "  warnings.warn(f'{self.__class__} does not define `arg_constraints`. ' +\n"
     ]
    },
    {
     "name": "stdout",
     "output_type": "stream",
     "text": [
      "Finished 20/22\n"
     ]
    },
    {
     "name": "stderr",
     "output_type": "stream",
     "text": [
      "/Users/kostadindev/.conda/envs/rfc-qa-generator/lib/python3.9/site-packages/torch/distributions/distribution.py:44: UserWarning: <class 'torch_struct.distributions.TreeCRF'> does not define `arg_constraints`. Please set `arg_constraints = {}` or initialize the distribution with `validate_args=False` to turn off validation.\n",
      "  warnings.warn(f'{self.__class__} does not define `arg_constraints`. ' +\n"
     ]
    },
    {
     "name": "stdout",
     "output_type": "stream",
     "text": [
      "Finished 21/22\n"
     ]
    },
    {
     "name": "stderr",
     "output_type": "stream",
     "text": [
      "/Users/kostadindev/.conda/envs/rfc-qa-generator/lib/python3.9/site-packages/torch/distributions/distribution.py:44: UserWarning: <class 'torch_struct.distributions.TreeCRF'> does not define `arg_constraints`. Please set `arg_constraints = {}` or initialize the distribution with `validate_args=False` to turn off validation.\n",
      "  warnings.warn(f'{self.__class__} does not define `arg_constraints`. ' +\n"
     ]
    },
    {
     "name": "stdout",
     "output_type": "stream",
     "text": [
      "Finished 22/22\n"
     ]
    }
   ],
   "source": [
    "if __name__ == '__main__':\n",
    "    nlp = spacy.load('en_core_web_sm')\n",
    "    nlp.add_pipe('benepar', config={'model': 'benepar_en3'})\n",
    "    sentences = pd.read_csv(\"sentences.csv\")\n",
    "    sentences = sentences.to_numpy().squeeze()\n",
    "    recursive = True\n",
    "\n",
    "    entries = []\n",
    "    for idx, sentence in enumerate(sentences):\n",
    "        entries.append(parse_sentence(sentence, recursive))\n",
    "        print(f\"Finished {idx}/{len(sentences) - 1}\")\n",
    "    df = pd.DataFrame(entries, columns=['sentence', 'questions', 'answers', 'removed', 'phrases'])\n",
    "    df.to_csv('parsed_sentences.csv')"
   ],
   "metadata": {
    "collapsed": false,
    "pycharm": {
     "name": "#%%\n"
    }
   }
  },
  {
   "cell_type": "code",
   "execution_count": 27,
   "outputs": [
    {
     "name": "stdout",
     "output_type": "stream",
     "text": [
      "Sentence: \n",
      "If it is a directory, NFS4ERR_ISDIR is returned; otherwise, NFS4ERR_SYMLINK is returned.\n",
      "Questions: \n",
      "['What If it is a directory?']\n",
      "Answers\n",
      "<np>it<np> <vp>is returned<vp>\n",
      "<np>a directory<np> <vp>is returned<vp>\n",
      "<np>NFS4ERR_ISDIR<np> <vp>is returned<vp>\n",
      "<np>NFS4ERR_SYMLINK<np> <vp>is returned<vp>\n",
      "Phrases: \n",
      "{'ADVP': [otherwise],\n",
      " 'NP': [it, a directory, NFS4ERR_ISDIR, NFS4ERR_SYMLINK],\n",
      " 'S': [If it is a directory, NFS4ERR_ISDIR is returned,\n",
      "       it is a directory,\n",
      "       otherwise, NFS4ERR_SYMLINK is returned],\n",
      " 'SBAR': [If it is a directory],\n",
      " 'VP': [is a directory, is returned, returned, is returned, returned]}\n"
     ]
    }
   ],
   "source": [
    "\n",
    "#pd_print_entry(df, -1, removed = False)\n",
    "#parse_sentence(df.iloc[22]['sentence'])\n",
    "pd_print_entry(df, 22)"
   ],
   "metadata": {
    "collapsed": false,
    "pycharm": {
     "name": "#%%\n"
    }
   }
  },
  {
   "cell_type": "code",
<<<<<<< HEAD
   "execution_count": 83,
   "outputs": [
    {
     "name": "stderr",
     "output_type": "stream",
     "text": [
      "No model was supplied, defaulted to distilbert-base-cased-distilled-squad (https://huggingface.co/distilbert-base-cased-distilled-squad)\n"
     ]
    },
    {
     "name": "stdout",
     "output_type": "stream",
     "text": [
      "huggingface/tokenizers: The current process just got forked, after parallelism has already been used. Disabling parallelism to avoid deadlocks...\n",
      "To disable this warning, you can either:\n",
      "\t- Avoid using `tokenizers` before the fork if possible\n",
      "\t- Explicitly set the environment variable TOKENIZERS_PARALLELISM=(true | false)\n"
     ]
    },
    {
     "data": {
      "text/plain": "Downloading:   0%|          | 0.00/473 [00:00<?, ?B/s]",
      "application/vnd.jupyter.widget-view+json": {
       "version_major": 2,
       "version_minor": 0,
       "model_id": "9844017e09844308837b26fddc71e36b"
      }
     },
     "metadata": {},
     "output_type": "display_data"
    },
    {
     "data": {
      "text/plain": "Downloading:   0%|          | 0.00/249M [00:00<?, ?B/s]",
      "application/vnd.jupyter.widget-view+json": {
       "version_major": 2,
       "version_minor": 0,
       "model_id": "783e9588685d4f96bd2ce0473d7829b7"
      }
     },
=======
   "execution_count": 31,
   "outputs": [
    {
     "name": "stdout",
     "output_type": "stream",
     "text": [
      "{\"statusCode\":200,\"summaryText\":\"An application programming interface (API) is a connection between computers or between computer programs.\"}\n"
     ]
    }
   ],
   "source": [
    "import requests\n",
    "\n",
    "url = \"https://nlp-toolbox1.p.rapidapi.com/summarize\"\n",
    "\n",
    "payload = \"{\\n    \\\"text\\\": \\\"From Wikipedia - An application programming interface (API) is a connection between computers or between computer programs. It is a type of software interface, offering a service to other pieces of software.[1] A document or standard that describes how to build or use such a connection or interface is called an API specification. A computer system that meets this standard is said to implement or expose an API. The term API may refer either to the specification or to the implementation.\\\",\\n    \\\"description\\\": \\\"Wikipedia Entry for - Application Programming Interface (API) - https://en.wikipedia.org/wiki/API - 2021-10-25.  Not that reference numbers are tied in.  If the model performing inference has been trained on Wikipedia data, with, e.g,., the This probably allows for a near perfect match with training data.  \\\",\\n    \\\"min_words_out\\\": 5,\\n    \\\"max_words_out\\\": 20\\n}\"\n",
    "headers = {\n",
    "    'content-type': \"application/json\",\n",
    "    'x-rapidapi-host': \"nlp-toolbox1.p.rapidapi.com\",\n",
    "    'x-rapidapi-key': \"43b97ced76msh5c0489d156c9f03p1fc8d1jsn2489bbf83af6\"\n",
    "}\n",
    "\n",
    "response = requests.request(\"POST\", url, data=payload, headers=headers)\n",
    "\n",
    "print(response.text)"
   ],
   "metadata": {
    "collapsed": false,
    "pycharm": {
     "name": "#%%\n"
    }
   }
  },
  {
   "cell_type": "code",
   "execution_count": 18,
   "outputs": [
    {
     "data": {
      "text/plain": "'If the stored verifier does not match, then an error of NFS4ERR_EXIST is returned.'"
     },
     "execution_count": 18,
>>>>>>> 83518c352afec3bc10902dd0c529ced603c74f1f
     "metadata": {},
     "output_type": "display_data"
    },
    {
     "data": {
      "text/plain": "Downloading:   0%|          | 0.00/29.0 [00:00<?, ?B/s]",
      "application/vnd.jupyter.widget-view+json": {
       "version_major": 2,
       "version_minor": 0,
       "model_id": "6fedca57376b4124902e18437df09dde"
      }
     },
     "metadata": {},
     "output_type": "display_data"
    },
    {
     "data": {
      "text/plain": "Downloading:   0%|          | 0.00/208k [00:00<?, ?B/s]",
      "application/vnd.jupyter.widget-view+json": {
       "version_major": 2,
       "version_minor": 0,
       "model_id": "9ee1460b80594f2abeb1c3087669a364"
      }
     },
     "metadata": {},
     "output_type": "display_data"
    },
    {
     "data": {
      "text/plain": "Downloading:   0%|          | 0.00/426k [00:00<?, ?B/s]",
      "application/vnd.jupyter.widget-view+json": {
       "version_major": 2,
       "version_minor": 0,
       "model_id": "5f4f4ababb214c1fa648f8c59bc545a5"
      }
     },
     "metadata": {},
     "output_type": "display_data"
    },
    {
     "name": "stdout",
     "output_type": "stream",
     "text": [
      "{'score': 0.6222440600395203, 'start': 34, 'end': 95, 'answer': 'the task of extracting an answer from a text given a question'}\n",
      "{'score': 0.5115309357643127, 'start': 147, 'end': 160, 'answer': 'SQuAD dataset'}\n"
     ]
    }
   ],
   "source": [
<<<<<<< HEAD
    "from transformers import pipeline\n",
    "\n",
    "nlp = pipeline(\"question-answering\")\n",
    "\n",
    "context = r\"\"\"\n",
    "Extractive Question Answering is the task of extracting an answer from a text given a question. An example of a\n",
    "question answering dataset is the SQuAD dataset, which is entirely based on that task. If you would like to fine-tune\n",
    "a model on a SQuAD task, you may leverage the `run_squad.py`.\n",
    "\"\"\"\n",
    "\n",
    "print(nlp(question=\"What is extractive question answering?\", context=context))\n",
    "print(nlp(question=\"What is a good example of a question answering dataset?\", context=context))"
=======
    "# WORKING OUT AN EXAMPLE:\n",
    "sentence = df.iloc[17]['sentence']\n",
    "sentence"
>>>>>>> 83518c352afec3bc10902dd0c529ced603c74f1f
   ],
   "metadata": {
    "collapsed": false,
    "pycharm": {
     "name": "#%%\n"
    }
   }
  },
  {
   "cell_type": "code",
   "execution_count": null,
   "outputs": [],
   "source": [],
   "metadata": {
    "collapsed": false,
    "pycharm": {
     "name": "#%%\n"
    }
   }
  }
 ],
 "metadata": {
  "kernelspec": {
   "display_name": "Python 3",
   "language": "python",
   "name": "python3"
  },
  "language_info": {
   "codemirror_mode": {
    "name": "ipython",
    "version": 2
   },
   "file_extension": ".py",
   "mimetype": "text/x-python",
   "name": "python",
   "nbconvert_exporter": "python",
   "pygments_lexer": "ipython2",
   "version": "2.7.6"
  }
 },
 "nbformat": 4,
 "nbformat_minor": 0
}