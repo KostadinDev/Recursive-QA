{
 "cells": [
  {
   "cell_type": "code",
   "execution_count": 1,
   "metadata": {
    "collapsed": true
   },
   "outputs": [
    {
     "name": "stderr",
     "output_type": "stream",
     "text": [
      "[nltk_data] Downloading package benepar_en3 to\n",
      "[nltk_data]     /Users/kostadindev/nltk_data...\n",
      "[nltk_data]   Package benepar_en3 is already up-to-date!\n",
      "/Users/kostadindev/.conda/envs/constituency_parse/lib/python3.9/site-packages/torch/distributions/distribution.py:44: UserWarning: <class 'torch_struct.distributions.TreeCRF'> does not define `arg_constraints`. Please set `arg_constraints = {}` or initialize the distribution with `validate_args=False` to turn off validation.\n",
      "  warnings.warn(f'{self.__class__} does not define `arg_constraints`. ' +\n"
     ]
    }
   ],
   "source": [
    "import benepar, spacy\n",
    "benepar.download('benepar_en3')\n",
    "\n",
    "nlp = spacy.load('en_core_web_sm')\n",
    "nlp.add_pipe('benepar', config={'model': 'benepar_en3'})\n",
    "doc = nlp('The time for action is now. It is never too late to do something.')\n",
    "sent = list(doc.sents)[0]"
   ]
  },
  {
   "cell_type": "code",
   "execution_count": 2,
   "outputs": [],
   "source": [
    "#list(sent._.children)[3]\n",
    "#print(list(sent._.children)[2].label)\n",
    "# for i in range(len(list(sent._.children))):\n",
    "#     print(list(sent._.children[i]), list(sent._._labels)[i])\n",
    "# list(sent._.children)\n",
    "import pandas as pd\n",
    "from pprint import pprint as pprint\n",
    "import numpy as np\n",
    "from sklearn.cluster import AffinityPropagation\n",
    "import distance\n",
    "sentences = pd.read_csv(\"sentences.csv\")\n",
    "sentences = sentences.to_numpy().squeeze()\n",
    "signs = [',', ':', ';', '.', '!', '?']\n",
    "recursive = True\n",
    "max_similarity= 5"
   ],
   "metadata": {
    "collapsed": false,
    "pycharm": {
     "name": "#%%\n"
    }
   }
  },
  {
   "cell_type": "code",
   "execution_count": 84,
   "outputs": [],
   "source": [
    "def pd_print_entry(df, index):\n",
    "    entry = df.iloc[index]\n",
    "    print(\"Sentence: \")\n",
    "    print(entry['sentence'])\n",
    "    print(\"Questions: \")\n",
    "    print(entry['questions'])\n",
    "    print('Answers')\n",
    "    #print(entry['answers'])\n",
    "    for answer in entry['answers']:\n",
    "        print(answer)\n",
    "    print('Removed')\n",
    "    #print(entry['answers'])\n",
    "    for removed in entry['removed']:\n",
    "        print(removed)\n",
    "    print('Phrases: ')\n",
    "    pprint(entry['phrases'])"
   ],
   "metadata": {
    "collapsed": false,
    "pycharm": {
     "name": "#%%\n"
    }
   }
  },
  {
   "cell_type": "code",
   "execution_count": 85,
   "outputs": [],
   "source": [
    "def get_phrases(sent, recursive = False):\n",
    "    children = list(sent._.children)\n",
    "    #VP, NP, SBAR, ADVP, PP = [], [], [], [], []\n",
    "    phrases = {}\n",
    "    for i in range(len(children)):\n",
    "        if str(children[i]) not in signs:\n",
    "            try:\n",
    "                label = children[i]._.labels[0]\n",
    "            except:\n",
    "                label= \"stop\"\n",
    "            # print(children[i], label)\n",
    "            # print(children[i], children[i]._.labels)\n",
    "            # generate_questions(children[i])\n",
    "            if label != 'stop':\n",
    "                if label not in phrases.keys():\n",
    "                    phrases[label] = []\n",
    "                phrases[label].append(children[i])\n",
    "                new_phrases= get_phrases(children[i], recursive= recursive)\n",
    "                for key in new_phrases.keys():\n",
    "                    if key not in phrases.keys():\n",
    "                        phrases[key] = []\n",
    "                    phrases[key].extend(new_phrases[key])\n",
    "    return phrases"
   ],
   "metadata": {
    "collapsed": false,
    "pycharm": {
     "name": "#%%\n"
    }
   }
  },
  {
   "cell_type": "code",
   "execution_count": 86,
   "outputs": [],
   "source": [
    "def get_QA(phrases):\n",
    "    questions, answers = [], []\n",
    "    if 'SBAR' in phrases.keys():\n",
    "        for sbar in phrases['SBAR']:\n",
    "            questions.append(f\"What {str(sbar).lower()}?\")\n",
    "            if 'NP' in phrases.keys():\n",
    "                for np in phrases['NP']:\n",
    "                    if 'VP' in phrases.keys():\n",
    "                        for vp in phrases['VP']:\n",
    "                            answers.append(f'<np>{np}<np> <vp>{vp}<vp>')\n",
    "    return questions, answers"
   ],
   "metadata": {
    "collapsed": false,
    "pycharm": {
     "name": "#%%\n"
    }
   }
  },
  {
   "cell_type": "code",
   "execution_count": 87,
   "outputs": [],
   "source": [
    "def edit_distance(s1, s2):\n",
    "    if len(s1) > len(s2):\n",
    "        s1, s2 = s2, s1\n",
    "\n",
    "    distances = range(len(s1) + 1)\n",
    "    for i2, c2 in enumerate(s2):\n",
    "        distances_ = [i2+1]\n",
    "        for i1, c1 in enumerate(s1):\n",
    "            if c1 == c2:\n",
    "                distances_.append(distances[i1])\n",
    "            else:\n",
    "                distances_.append(1 + min((distances[i1], distances[i1 + 1], distances_[-1])))\n",
    "        distances = distances_\n",
    "    return distances[-1]"
   ],
   "metadata": {
    "collapsed": false,
    "pycharm": {
     "name": "#%%\n"
    }
   }
  },
  {
   "cell_type": "code",
   "execution_count": 96,
   "outputs": [],
   "source": [
    "def filter_edit_distance(words):\n",
    "    if len(words) == 0:\n",
    "        return []\n",
    "    filtered_words = []\n",
    "    words = np.asarray(words) #So that indexing with a list will work\n",
    "    lev_similarity = -1*np.array([[distance.levenshtein(w1,w2) for w1 in words] for w2 in words])\n",
    "\n",
    "    affprop = AffinityPropagation(affinity=\"precomputed\", damping=0.5)\n",
    "    affprop.fit(lev_similarity)\n",
    "    for cluster_id in np.unique(affprop.labels_):\n",
    "        #exemplar = words[affprop.cluster_centers_indices_[cluster_id]]\n",
    "        cluster = np.unique(words[np.nonzero(affprop.labels_==cluster_id)])\n",
    "        filtered_words.append(min(cluster, key = lambda x: len(x)))\n",
    "    return filtered_words"
   ],
   "metadata": {
    "collapsed": false,
    "pycharm": {
     "name": "#%%\n"
    }
   }
  },
  {
   "cell_type": "code",
   "execution_count": 97,
   "outputs": [],
   "source": [
    "def filter_not_in_question(answers, question):\n",
    "    filtered_answers = []\n",
    "    for answer in answers:\n",
    "        vp = answer.split('<vp>')[1]\n",
    "        np = answer.split('<np>')[1]\n",
    "        if (vp not in question or len(vp)<10) and (np not in question or len(np)<10):\n",
    "            filtered_answers.append(answer)\n",
    "    return filtered_answers"
   ],
   "metadata": {
    "collapsed": false,
    "pycharm": {
     "name": "#%%\n"
    }
   }
  },
  {
   "cell_type": "code",
   "execution_count": 114,
   "outputs": [],
   "source": [
    "def parse_sentence(sentence):\n",
    "    sent = list(nlp(sentence).sents)[0]\n",
    "    phrases = get_phrases(sent, recursive = recursive)\n",
    "    questions, answers = get_QA(phrases)\n",
    "    qa_pairs = []\n",
    "    filtered_answers = filter_edit_distance(answers)\n",
    "    # for question in questions:\n",
    "    #     filtered_answers = answers #filter_not_in_question(answers, question)\n",
    "    #     qa_pairs.append({'question':question, 'answers':filtered_answers})\n",
    "    return [str(sent), questions, filtered_answers, [answer for answer in answers if answer not in filtered_answers], phrases]"
   ],
   "metadata": {
    "collapsed": false,
    "pycharm": {
     "name": "#%%\n"
    }
   }
  },
  {
   "cell_type": "code",
   "execution_count": null,
   "outputs": [
    {
     "name": "stderr",
     "output_type": "stream",
     "text": [
      "/Users/kostadindev/.conda/envs/constituency_parse/lib/python3.9/site-packages/torch/distributions/distribution.py:44: UserWarning: <class 'torch_struct.distributions.TreeCRF'> does not define `arg_constraints`. Please set `arg_constraints = {}` or initialize the distribution with `validate_args=False` to turn off validation.\n",
      "  warnings.warn(f'{self.__class__} does not define `arg_constraints`. ' +\n"
     ]
    },
    {
     "name": "stdout",
     "output_type": "stream",
     "text": [
      "Finished 0/23\n"
     ]
    },
    {
     "name": "stderr",
     "output_type": "stream",
     "text": [
      "/Users/kostadindev/.conda/envs/constituency_parse/lib/python3.9/site-packages/torch/distributions/distribution.py:44: UserWarning: <class 'torch_struct.distributions.TreeCRF'> does not define `arg_constraints`. Please set `arg_constraints = {}` or initialize the distribution with `validate_args=False` to turn off validation.\n",
      "  warnings.warn(f'{self.__class__} does not define `arg_constraints`. ' +\n"
     ]
    },
    {
     "name": "stdout",
     "output_type": "stream",
     "text": [
      "Finished 1/23\n",
      "Finished 2/23\n"
     ]
    },
    {
     "name": "stderr",
     "output_type": "stream",
     "text": [
      "/Users/kostadindev/.conda/envs/constituency_parse/lib/python3.9/site-packages/torch/distributions/distribution.py:44: UserWarning: <class 'torch_struct.distributions.TreeCRF'> does not define `arg_constraints`. Please set `arg_constraints = {}` or initialize the distribution with `validate_args=False` to turn off validation.\n",
      "  warnings.warn(f'{self.__class__} does not define `arg_constraints`. ' +\n"
     ]
    },
    {
     "name": "stdout",
     "output_type": "stream",
     "text": [
      "Finished 3/23\n",
      "Finished 4/23\n",
      "Finished 5/23\n"
     ]
    },
    {
     "name": "stderr",
     "output_type": "stream",
     "text": [
      "/Users/kostadindev/.conda/envs/constituency_parse/lib/python3.9/site-packages/torch/distributions/distribution.py:44: UserWarning: <class 'torch_struct.distributions.TreeCRF'> does not define `arg_constraints`. Please set `arg_constraints = {}` or initialize the distribution with `validate_args=False` to turn off validation.\n",
      "  warnings.warn(f'{self.__class__} does not define `arg_constraints`. ' +\n"
     ]
    },
    {
     "name": "stdout",
     "output_type": "stream",
     "text": [
      "Finished 6/23\n"
     ]
    },
    {
     "name": "stderr",
     "output_type": "stream",
     "text": [
      "/Users/kostadindev/.conda/envs/constituency_parse/lib/python3.9/site-packages/torch/distributions/distribution.py:44: UserWarning: <class 'torch_struct.distributions.TreeCRF'> does not define `arg_constraints`. Please set `arg_constraints = {}` or initialize the distribution with `validate_args=False` to turn off validation.\n",
      "  warnings.warn(f'{self.__class__} does not define `arg_constraints`. ' +\n"
     ]
    },
    {
     "name": "stdout",
     "output_type": "stream",
     "text": [
      "Finished 7/23\n"
     ]
    },
    {
     "name": "stderr",
     "output_type": "stream",
     "text": [
      "/Users/kostadindev/.conda/envs/constituency_parse/lib/python3.9/site-packages/torch/distributions/distribution.py:44: UserWarning: <class 'torch_struct.distributions.TreeCRF'> does not define `arg_constraints`. Please set `arg_constraints = {}` or initialize the distribution with `validate_args=False` to turn off validation.\n",
      "  warnings.warn(f'{self.__class__} does not define `arg_constraints`. ' +\n",
      "/Users/kostadindev/.conda/envs/constituency_parse/lib/python3.9/site-packages/sklearn/cluster/_affinity_propagation.py:250: ConvergenceWarning: Affinity propagation did not converge, this model will not have any cluster centers.\n",
      "  warnings.warn(\n",
      "/Users/kostadindev/.conda/envs/constituency_parse/lib/python3.9/site-packages/torch/distributions/distribution.py:44: UserWarning: <class 'torch_struct.distributions.TreeCRF'> does not define `arg_constraints`. Please set `arg_constraints = {}` or initialize the distribution with `validate_args=False` to turn off validation.\n",
      "  warnings.warn(f'{self.__class__} does not define `arg_constraints`. ' +\n"
     ]
    },
    {
     "name": "stdout",
     "output_type": "stream",
     "text": [
      "Finished 8/23\n",
      "Finished 9/23\n"
     ]
    },
    {
     "name": "stderr",
     "output_type": "stream",
     "text": [
      "/Users/kostadindev/.conda/envs/constituency_parse/lib/python3.9/site-packages/torch/distributions/distribution.py:44: UserWarning: <class 'torch_struct.distributions.TreeCRF'> does not define `arg_constraints`. Please set `arg_constraints = {}` or initialize the distribution with `validate_args=False` to turn off validation.\n",
      "  warnings.warn(f'{self.__class__} does not define `arg_constraints`. ' +\n"
     ]
    },
    {
     "name": "stdout",
     "output_type": "stream",
     "text": [
      "Finished 10/23\n"
     ]
    },
    {
     "name": "stderr",
     "output_type": "stream",
     "text": [
      "/Users/kostadindev/.conda/envs/constituency_parse/lib/python3.9/site-packages/torch/distributions/distribution.py:44: UserWarning: <class 'torch_struct.distributions.TreeCRF'> does not define `arg_constraints`. Please set `arg_constraints = {}` or initialize the distribution with `validate_args=False` to turn off validation.\n",
      "  warnings.warn(f'{self.__class__} does not define `arg_constraints`. ' +\n"
     ]
    },
    {
     "name": "stdout",
     "output_type": "stream",
     "text": [
      "Finished 11/23\n",
      "Finished 12/23\n"
     ]
    },
    {
     "name": "stderr",
     "output_type": "stream",
     "text": [
      "/Users/kostadindev/.conda/envs/constituency_parse/lib/python3.9/site-packages/torch/distributions/distribution.py:44: UserWarning: <class 'torch_struct.distributions.TreeCRF'> does not define `arg_constraints`. Please set `arg_constraints = {}` or initialize the distribution with `validate_args=False` to turn off validation.\n",
      "  warnings.warn(f'{self.__class__} does not define `arg_constraints`. ' +\n",
      "/Users/kostadindev/.conda/envs/constituency_parse/lib/python3.9/site-packages/sklearn/cluster/_affinity_propagation.py:250: ConvergenceWarning: Affinity propagation did not converge, this model will not have any cluster centers.\n",
      "  warnings.warn(\n",
      "/Users/kostadindev/.conda/envs/constituency_parse/lib/python3.9/site-packages/torch/distributions/distribution.py:44: UserWarning: <class 'torch_struct.distributions.TreeCRF'> does not define `arg_constraints`. Please set `arg_constraints = {}` or initialize the distribution with `validate_args=False` to turn off validation.\n",
      "  warnings.warn(f'{self.__class__} does not define `arg_constraints`. ' +\n"
     ]
    },
    {
     "name": "stdout",
     "output_type": "stream",
     "text": [
      "Finished 13/23\n"
     ]
    }
   ],
   "source": [
    "if __name__ == '__main__':\n",
    "    entries = []\n",
    "    for idx, sentence in enumerate(sentences):\n",
    "        entries.append(parse_sentence(sentence))\n",
    "        print(f\"Finished {idx}/{len(sentences)}\")\n",
    "    df = pd.DataFrame(entries, columns =['sentence', 'questions', 'answers','removed' 'phrases'])\n",
    "    df.to_csv('parsed_sentences.csv')"
   ],
   "metadata": {
    "collapsed": false,
    "pycharm": {
     "name": "#%%\n",
     "is_executing": true
    }
   }
  },
  {
   "cell_type": "code",
   "execution_count": 111,
   "outputs": [
    {
     "name": "stdout",
     "output_type": "stream",
     "text": [
      "5\n"
     ]
    },
    {
     "data": {
      "text/plain": "                                             sentence  \\\n0   In the case current file handle represents an ...   \n1   If the file does not exist at the server and c...   \n2   The client has the choice of three creation me...   \n3   If the current filehandle is a named attribute...   \n4   For this type of create, createattrs specifies...   \n5   The set of attributes may include any writable...   \n6   When an UNCHECKED create encounters an existin...   \n7   If GUARDED4 is specified, the server checks fo...   \n8   If a duplicate exists, an error of NFS4ERR_EXI...   \n9   If the object does not exist, the server creat...   \n10  If the object does not exist and the stored ve...   \n11  If the stored verifier does not match, then an...   \n12  For the target directory, the server returns c...   \n13  NFS4ERR_INVAL is returned if the reclaim is do...   \n14  NFS4ERR_BAD_RECLAIM is returned if the other e...   \n15  If the underlying file system at the server is...   \n16  If the object does not exist, the server creat...   \n17  If the stored verifier does not match, then an...   \n18  If the server cannot support these exclusive c...   \n19  If the verifier do not match, the request is r...   \n20  If the requester is not authorized to READ or ...   \n21  If the component provided to OPEN resolves to ...   \n22  If it is a directory, NFS4ERR_ISDIR is returne...   \n\n                                            questions  \\\n0   [What current file handle represents an object...   \n1   [What if the file does not exist at the server...   \n2                                                  []   \n3   [What if the current filehandle is a named att...   \n4                                                  []   \n5                                                  []   \n6   [What when an unchecked create encounters an e...   \n7                    [What if guarded4 is specified?]   \n8                       [What if a duplicate exists?]   \n9                [What if the object does not exist?]   \n10  [What if the object does not exist and the sto...   \n11      [What if the stored verifier does not match?]   \n12                                                 []   \n13  [What if the reclaim is done at an inappropria...   \n14  [What if the other error conditions do not app...   \n15  [What if the underlying file system at the ser...   \n16               [What if the object does not exist?]   \n17      [What if the stored verifier does not match?]   \n18  [What if the server cannot support these exclu...   \n19               [What if the verifier do not match?]   \n20  [What if the requester is not authorized to re...   \n21  [What if the component provided to open resolv...   \n22                       [What if it is a directory?]   \n\n                                              answers  \\\n0   [<np>the case current file handle represents a...   \n1   [<np>the file<np> <vp>does not exist at the se...   \n2                                                  []   \n3   [<np>the current filehandle<np> <vp>is a named...   \n4                                                  []   \n5                                                  []   \n6   [<np>an UNCHECKED create<np> <vp>encounters an...   \n7   [<np>GUARDED4<np> <vp>is specified<vp>, <np>GU...   \n8   [<np>a duplicate<np> <vp>exists<vp>, <np>a dup...   \n9   [<np>the object<np> <vp>does not exist<vp>, <n...   \n10  [<np>the object<np> <vp>does not exist<vp>, <n...   \n11  [<np>the stored verifier<np> <vp>does not matc...   \n12                                                 []   \n13  [<np>NFS4ERR_INVAL<np> <vp>is returned if the ...   \n14  [<np>NFS4ERR_BAD_RECLAIM<np> <vp>is returned i...   \n15  [<np>the underlying file system at the server<...   \n16  [<np>the object<np> <vp>does not exist<vp>, <n...   \n17  [<np>the stored verifier<np> <vp>does not matc...   \n18  [<np>the server<np> <vp>cannot support these e...   \n19  [<np>the verifier<np> <vp>do not match<vp>, <n...   \n20  [<np>the requester<np> <vp>is not authorized t...   \n21  [<np>the component provided to OPEN<np> <vp>pr...   \n22  [<np>it<np> <vp>is a directory<vp>, <np>it<np>...   \n\n                                              phrases  \n0   {'PP': [(In, the, case, current, file, handle,...  \n1   {'SBAR': [(If, the, file, does, not, exist, at...  \n2   {'NP': [(The, client), (the, choice, of, three...  \n3   {'SBAR': [(If, the, current, filehandle, is, a...  \n4   {'PP': [(For, this, type, of, create), (of, cr...  \n5   {'NP': [(The, set, of, attributes), (The, set)...  \n6   {'SBAR': [(When, an, UNCHECKED, create, encoun...  \n7   {'SBAR': [(If, GUARDED4, is, specified)], 'S':...  \n8   {'SBAR': [(If, a, duplicate, exists)], 'S': [(...  \n9   {'SBAR': [(If, the, object, does, not, exist)]...  \n10  {'SBAR': [(If, the, object, does, not, exist, ...  \n11  {'SBAR': [(If, the, stored, verifier, does, no...  \n12  {'PP': [(For, the, target, directory), (in, ci...  \n13  {'NP': [(NFS4ERR_INVAL), (the, reclaim), (an, ...  \n14  {'NP': [(NFS4ERR_BAD_RECLAIM), (the, other, er...  \n15  {'SBAR': [(If, the, underlying, file, system, ...  \n16  {'SBAR': [(If, the, object, does, not, exist)]...  \n17  {'SBAR': [(If, the, stored, verifier, does, no...  \n18  {'SBAR': [(If, the, server, can, not, support,...  \n19  {'SBAR': [(If, the, verifier, do, not, match)]...  \n20  {'SBAR': [(If, the, requester, is, not, author...  \n21  {'SBAR': [(If, the, component, provided, to, O...  \n22  {'S': [(If, it, is, a, directory, ,, NFS4ERR_I...  ",
      "text/html": "<div>\n<style scoped>\n    .dataframe tbody tr th:only-of-type {\n        vertical-align: middle;\n    }\n\n    .dataframe tbody tr th {\n        vertical-align: top;\n    }\n\n    .dataframe thead th {\n        text-align: right;\n    }\n</style>\n<table border=\"1\" class=\"dataframe\">\n  <thead>\n    <tr style=\"text-align: right;\">\n      <th></th>\n      <th>sentence</th>\n      <th>questions</th>\n      <th>answers</th>\n      <th>phrases</th>\n    </tr>\n  </thead>\n  <tbody>\n    <tr>\n      <th>0</th>\n      <td>In the case current file handle represents an ...</td>\n      <td>[What current file handle represents an object...</td>\n      <td>[&lt;np&gt;the case current file handle represents a...</td>\n      <td>{'PP': [(In, the, case, current, file, handle,...</td>\n    </tr>\n    <tr>\n      <th>1</th>\n      <td>If the file does not exist at the server and c...</td>\n      <td>[What if the file does not exist at the server...</td>\n      <td>[&lt;np&gt;the file&lt;np&gt; &lt;vp&gt;does not exist at the se...</td>\n      <td>{'SBAR': [(If, the, file, does, not, exist, at...</td>\n    </tr>\n    <tr>\n      <th>2</th>\n      <td>The client has the choice of three creation me...</td>\n      <td>[]</td>\n      <td>[]</td>\n      <td>{'NP': [(The, client), (the, choice, of, three...</td>\n    </tr>\n    <tr>\n      <th>3</th>\n      <td>If the current filehandle is a named attribute...</td>\n      <td>[What if the current filehandle is a named att...</td>\n      <td>[&lt;np&gt;the current filehandle&lt;np&gt; &lt;vp&gt;is a named...</td>\n      <td>{'SBAR': [(If, the, current, filehandle, is, a...</td>\n    </tr>\n    <tr>\n      <th>4</th>\n      <td>For this type of create, createattrs specifies...</td>\n      <td>[]</td>\n      <td>[]</td>\n      <td>{'PP': [(For, this, type, of, create), (of, cr...</td>\n    </tr>\n    <tr>\n      <th>5</th>\n      <td>The set of attributes may include any writable...</td>\n      <td>[]</td>\n      <td>[]</td>\n      <td>{'NP': [(The, set, of, attributes), (The, set)...</td>\n    </tr>\n    <tr>\n      <th>6</th>\n      <td>When an UNCHECKED create encounters an existin...</td>\n      <td>[What when an unchecked create encounters an e...</td>\n      <td>[&lt;np&gt;an UNCHECKED create&lt;np&gt; &lt;vp&gt;encounters an...</td>\n      <td>{'SBAR': [(When, an, UNCHECKED, create, encoun...</td>\n    </tr>\n    <tr>\n      <th>7</th>\n      <td>If GUARDED4 is specified, the server checks fo...</td>\n      <td>[What if guarded4 is specified?]</td>\n      <td>[&lt;np&gt;GUARDED4&lt;np&gt; &lt;vp&gt;is specified&lt;vp&gt;, &lt;np&gt;GU...</td>\n      <td>{'SBAR': [(If, GUARDED4, is, specified)], 'S':...</td>\n    </tr>\n    <tr>\n      <th>8</th>\n      <td>If a duplicate exists, an error of NFS4ERR_EXI...</td>\n      <td>[What if a duplicate exists?]</td>\n      <td>[&lt;np&gt;a duplicate&lt;np&gt; &lt;vp&gt;exists&lt;vp&gt;, &lt;np&gt;a dup...</td>\n      <td>{'SBAR': [(If, a, duplicate, exists)], 'S': [(...</td>\n    </tr>\n    <tr>\n      <th>9</th>\n      <td>If the object does not exist, the server creat...</td>\n      <td>[What if the object does not exist?]</td>\n      <td>[&lt;np&gt;the object&lt;np&gt; &lt;vp&gt;does not exist&lt;vp&gt;, &lt;n...</td>\n      <td>{'SBAR': [(If, the, object, does, not, exist)]...</td>\n    </tr>\n    <tr>\n      <th>10</th>\n      <td>If the object does not exist and the stored ve...</td>\n      <td>[What if the object does not exist and the sto...</td>\n      <td>[&lt;np&gt;the object&lt;np&gt; &lt;vp&gt;does not exist&lt;vp&gt;, &lt;n...</td>\n      <td>{'SBAR': [(If, the, object, does, not, exist, ...</td>\n    </tr>\n    <tr>\n      <th>11</th>\n      <td>If the stored verifier does not match, then an...</td>\n      <td>[What if the stored verifier does not match?]</td>\n      <td>[&lt;np&gt;the stored verifier&lt;np&gt; &lt;vp&gt;does not matc...</td>\n      <td>{'SBAR': [(If, the, stored, verifier, does, no...</td>\n    </tr>\n    <tr>\n      <th>12</th>\n      <td>For the target directory, the server returns c...</td>\n      <td>[]</td>\n      <td>[]</td>\n      <td>{'PP': [(For, the, target, directory), (in, ci...</td>\n    </tr>\n    <tr>\n      <th>13</th>\n      <td>NFS4ERR_INVAL is returned if the reclaim is do...</td>\n      <td>[What if the reclaim is done at an inappropria...</td>\n      <td>[&lt;np&gt;NFS4ERR_INVAL&lt;np&gt; &lt;vp&gt;is returned if the ...</td>\n      <td>{'NP': [(NFS4ERR_INVAL), (the, reclaim), (an, ...</td>\n    </tr>\n    <tr>\n      <th>14</th>\n      <td>NFS4ERR_BAD_RECLAIM is returned if the other e...</td>\n      <td>[What if the other error conditions do not app...</td>\n      <td>[&lt;np&gt;NFS4ERR_BAD_RECLAIM&lt;np&gt; &lt;vp&gt;is returned i...</td>\n      <td>{'NP': [(NFS4ERR_BAD_RECLAIM), (the, other, er...</td>\n    </tr>\n    <tr>\n      <th>15</th>\n      <td>If the underlying file system at the server is...</td>\n      <td>[What if the underlying file system at the ser...</td>\n      <td>[&lt;np&gt;the underlying file system at the server&lt;...</td>\n      <td>{'SBAR': [(If, the, underlying, file, system, ...</td>\n    </tr>\n    <tr>\n      <th>16</th>\n      <td>If the object does not exist, the server creat...</td>\n      <td>[What if the object does not exist?]</td>\n      <td>[&lt;np&gt;the object&lt;np&gt; &lt;vp&gt;does not exist&lt;vp&gt;, &lt;n...</td>\n      <td>{'SBAR': [(If, the, object, does, not, exist)]...</td>\n    </tr>\n    <tr>\n      <th>17</th>\n      <td>If the stored verifier does not match, then an...</td>\n      <td>[What if the stored verifier does not match?]</td>\n      <td>[&lt;np&gt;the stored verifier&lt;np&gt; &lt;vp&gt;does not matc...</td>\n      <td>{'SBAR': [(If, the, stored, verifier, does, no...</td>\n    </tr>\n    <tr>\n      <th>18</th>\n      <td>If the server cannot support these exclusive c...</td>\n      <td>[What if the server cannot support these exclu...</td>\n      <td>[&lt;np&gt;the server&lt;np&gt; &lt;vp&gt;cannot support these e...</td>\n      <td>{'SBAR': [(If, the, server, can, not, support,...</td>\n    </tr>\n    <tr>\n      <th>19</th>\n      <td>If the verifier do not match, the request is r...</td>\n      <td>[What if the verifier do not match?]</td>\n      <td>[&lt;np&gt;the verifier&lt;np&gt; &lt;vp&gt;do not match&lt;vp&gt;, &lt;n...</td>\n      <td>{'SBAR': [(If, the, verifier, do, not, match)]...</td>\n    </tr>\n    <tr>\n      <th>20</th>\n      <td>If the requester is not authorized to READ or ...</td>\n      <td>[What if the requester is not authorized to re...</td>\n      <td>[&lt;np&gt;the requester&lt;np&gt; &lt;vp&gt;is not authorized t...</td>\n      <td>{'SBAR': [(If, the, requester, is, not, author...</td>\n    </tr>\n    <tr>\n      <th>21</th>\n      <td>If the component provided to OPEN resolves to ...</td>\n      <td>[What if the component provided to open resolv...</td>\n      <td>[&lt;np&gt;the component provided to OPEN&lt;np&gt; &lt;vp&gt;pr...</td>\n      <td>{'SBAR': [(If, the, component, provided, to, O...</td>\n    </tr>\n    <tr>\n      <th>22</th>\n      <td>If it is a directory, NFS4ERR_ISDIR is returne...</td>\n      <td>[What if it is a directory?]</td>\n      <td>[&lt;np&gt;it&lt;np&gt; &lt;vp&gt;is a directory&lt;vp&gt;, &lt;np&gt;it&lt;np&gt;...</td>\n      <td>{'S': [(If, it, is, a, directory, ,, NFS4ERR_I...</td>\n    </tr>\n  </tbody>\n</table>\n</div>"
     },
     "execution_count": 111,
     "metadata": {},
     "output_type": "execute_result"
    }
   ],
   "source": [
    "# df['answers'].apply(lambda x:len(x))\n",
    "# pd_print_entry(df, 21)\n",
    "print(len(entries[0]))\n",
    "df = pd.DataFrame(entries, columns =['sentence', 'questions', 'answers','removed', 'phrases'])\n",
    "df[['sentence', 'questions', 'answers', 'phrases']]\n"
   ],
   "metadata": {
    "collapsed": false,
    "pycharm": {
     "name": "#%%\n"
    }
   }
  },
  {
   "cell_type": "code",
   "execution_count": 109,
   "outputs": [
    {
     "name": "stdout",
     "output_type": "stream",
     "text": [
      "23 5\n"
     ]
    }
   ],
   "source": [
    "print(len(entries), len(entries[0]))"
   ],
   "metadata": {
    "collapsed": false,
    "pycharm": {
     "name": "#%%\n"
    }
   }
  },
  {
   "cell_type": "code",
   "execution_count": 113,
   "outputs": [
    {
     "name": "stdout",
     "output_type": "stream",
     "text": [
      "Sentence: \n",
      "If the component provided to OPEN resolves to something other than a regular file (or a named attribute), an error will be returned to the client.\n",
      "Questions: \n",
      "['What if the component provided to open resolves to something other than a regular file (or a named attribute)?']\n",
      "Answers\n",
      "<np>the component provided to OPEN<np> <vp>provided to OPEN<vp>\n",
      "<np>the component provided to OPEN<np> <vp>resolves to something other than a regular file (or a named attribute)<vp>\n",
      "<np>the component provided to OPEN<np> <vp>will be returned to the client<vp>\n",
      "<np>the component provided to OPEN<np> <vp>be returned to the client<vp>\n",
      "<np>the component provided to OPEN<np> <vp>returned to the client<vp>\n",
      "<np>the component<np> <vp>provided to OPEN<vp>\n",
      "<np>the component<np> <vp>resolves to something other than a regular file (or a named attribute)<vp>\n",
      "<np>the component<np> <vp>will be returned to the client<vp>\n",
      "<np>the component<np> <vp>be returned to the client<vp>\n",
      "<np>the component<np> <vp>returned to the client<vp>\n",
      "<np>OPEN<np> <vp>provided to OPEN<vp>\n",
      "<np>OPEN<np> <vp>resolves to something other than a regular file (or a named attribute)<vp>\n",
      "<np>OPEN<np> <vp>will be returned to the client<vp>\n",
      "<np>OPEN<np> <vp>be returned to the client<vp>\n",
      "<np>OPEN<np> <vp>returned to the client<vp>\n",
      "<np>something other than a regular file (or a named attribute)<np> <vp>provided to OPEN<vp>\n",
      "<np>something other than a regular file (or a named attribute)<np> <vp>resolves to something other than a regular file (or a named attribute)<vp>\n",
      "<np>something other than a regular file (or a named attribute)<np> <vp>will be returned to the client<vp>\n",
      "<np>something other than a regular file (or a named attribute)<np> <vp>be returned to the client<vp>\n",
      "<np>something other than a regular file (or a named attribute)<np> <vp>returned to the client<vp>\n",
      "<np>something<np> <vp>provided to OPEN<vp>\n",
      "<np>something<np> <vp>resolves to something other than a regular file (or a named attribute)<vp>\n",
      "<np>something<np> <vp>will be returned to the client<vp>\n",
      "<np>something<np> <vp>be returned to the client<vp>\n",
      "<np>something<np> <vp>returned to the client<vp>\n",
      "<np>a regular file (or a named attribute)<np> <vp>provided to OPEN<vp>\n",
      "<np>a regular file (or a named attribute)<np> <vp>resolves to something other than a regular file (or a named attribute)<vp>\n",
      "<np>a regular file (or a named attribute)<np> <vp>will be returned to the client<vp>\n",
      "<np>a regular file (or a named attribute)<np> <vp>be returned to the client<vp>\n",
      "<np>a regular file (or a named attribute)<np> <vp>returned to the client<vp>\n",
      "<np>a regular file<np> <vp>provided to OPEN<vp>\n",
      "<np>a regular file<np> <vp>resolves to something other than a regular file (or a named attribute)<vp>\n",
      "<np>a regular file<np> <vp>will be returned to the client<vp>\n",
      "<np>a regular file<np> <vp>be returned to the client<vp>\n",
      "<np>a regular file<np> <vp>returned to the client<vp>\n",
      "<np>a named attribute<np> <vp>provided to OPEN<vp>\n",
      "<np>a named attribute<np> <vp>resolves to something other than a regular file (or a named attribute)<vp>\n",
      "<np>a named attribute<np> <vp>will be returned to the client<vp>\n",
      "<np>a named attribute<np> <vp>be returned to the client<vp>\n",
      "<np>a named attribute<np> <vp>returned to the client<vp>\n",
      "<np>an error<np> <vp>provided to OPEN<vp>\n",
      "<np>an error<np> <vp>resolves to something other than a regular file (or a named attribute)<vp>\n",
      "<np>an error<np> <vp>will be returned to the client<vp>\n",
      "<np>an error<np> <vp>be returned to the client<vp>\n",
      "<np>an error<np> <vp>returned to the client<vp>\n",
      "<np>the client<np> <vp>provided to OPEN<vp>\n",
      "<np>the client<np> <vp>resolves to something other than a regular file (or a named attribute)<vp>\n",
      "<np>the client<np> <vp>will be returned to the client<vp>\n",
      "<np>the client<np> <vp>be returned to the client<vp>\n",
      "<np>the client<np> <vp>returned to the client<vp>\n",
      "Removed\n",
      "<np>the component provided to OPEN<np> <vp>resolves to something other than a regular file (or a named attribute)<vp>\n",
      "<np>the component provided to OPEN<np> <vp>will be returned to the client<vp>\n",
      "<np>the component provided to OPEN<np> <vp>be returned to the client<vp>\n",
      "<np>the component provided to OPEN<np> <vp>returned to the client<vp>\n",
      "<np>the component<np> <vp>provided to OPEN<vp>\n",
      "<np>the component<np> <vp>resolves to something other than a regular file (or a named attribute)<vp>\n",
      "<np>the component<np> <vp>will be returned to the client<vp>\n",
      "<np>the component<np> <vp>be returned to the client<vp>\n",
      "<np>the component<np> <vp>returned to the client<vp>\n",
      "<np>OPEN<np> <vp>will be returned to the client<vp>\n",
      "<np>OPEN<np> <vp>be returned to the client<vp>\n",
      "<np>something other than a regular file (or a named attribute)<np> <vp>resolves to something other than a regular file (or a named attribute)<vp>\n",
      "<np>something other than a regular file (or a named attribute)<np> <vp>will be returned to the client<vp>\n",
      "<np>something other than a regular file (or a named attribute)<np> <vp>be returned to the client<vp>\n",
      "<np>something other than a regular file (or a named attribute)<np> <vp>returned to the client<vp>\n",
      "<np>something<np> <vp>provided to OPEN<vp>\n",
      "<np>something<np> <vp>resolves to something other than a regular file (or a named attribute)<vp>\n",
      "<np>something<np> <vp>will be returned to the client<vp>\n",
      "<np>something<np> <vp>be returned to the client<vp>\n",
      "<np>something<np> <vp>returned to the client<vp>\n",
      "<np>a regular file (or a named attribute)<np> <vp>will be returned to the client<vp>\n",
      "<np>a regular file (or a named attribute)<np> <vp>be returned to the client<vp>\n",
      "<np>a regular file (or a named attribute)<np> <vp>returned to the client<vp>\n",
      "<np>a regular file<np> <vp>provided to OPEN<vp>\n",
      "<np>a regular file<np> <vp>resolves to something other than a regular file (or a named attribute)<vp>\n",
      "<np>a regular file<np> <vp>will be returned to the client<vp>\n",
      "<np>a regular file<np> <vp>be returned to the client<vp>\n",
      "<np>a regular file<np> <vp>returned to the client<vp>\n",
      "<np>a named attribute<np> <vp>provided to OPEN<vp>\n",
      "<np>a named attribute<np> <vp>resolves to something other than a regular file (or a named attribute)<vp>\n",
      "<np>a named attribute<np> <vp>will be returned to the client<vp>\n",
      "<np>a named attribute<np> <vp>be returned to the client<vp>\n",
      "<np>a named attribute<np> <vp>returned to the client<vp>\n",
      "<np>an error<np> <vp>provided to OPEN<vp>\n",
      "<np>an error<np> <vp>resolves to something other than a regular file (or a named attribute)<vp>\n",
      "<np>an error<np> <vp>will be returned to the client<vp>\n",
      "<np>an error<np> <vp>be returned to the client<vp>\n",
      "<np>the client<np> <vp>provided to OPEN<vp>\n",
      "<np>the client<np> <vp>resolves to something other than a regular file (or a named attribute)<vp>\n",
      "<np>the client<np> <vp>will be returned to the client<vp>\n",
      "<np>the client<np> <vp>be returned to the client<vp>\n",
      "<np>the client<np> <vp>returned to the client<vp>\n",
      "Phrases: \n",
      "{'ADJP': [other than a regular file (or a named attribute)],\n",
      " 'NP': [the component provided to OPEN,\n",
      "        the component,\n",
      "        OPEN,\n",
      "        something other than a regular file (or a named attribute),\n",
      "        something,\n",
      "        a regular file (or a named attribute),\n",
      "        a regular file,\n",
      "        a named attribute,\n",
      "        an error,\n",
      "        the client],\n",
      " 'PP': [to OPEN,\n",
      "        to something other than a regular file (or a named attribute),\n",
      "        than a regular file (or a named attribute),\n",
      "        to the client],\n",
      " 'S': [the component provided to OPEN resolves to something other than a regular file (or a named attribute)],\n",
      " 'SBAR': [If the component provided to OPEN resolves to something other than a regular file (or a named attribute)],\n",
      " 'VP': [provided to OPEN,\n",
      "        resolves to something other than a regular file (or a named attribute),\n",
      "        will be returned to the client,\n",
      "        be returned to the client,\n",
      "        returned to the client]}\n"
     ]
    }
   ],
   "source": [
    "pd_print_entry(df, 21)\n",
    "# df['answers'].apply(lambda x: len(x))"
   ],
   "metadata": {
    "collapsed": false,
    "pycharm": {
     "name": "#%%\n"
    }
   }
  },
  {
   "cell_type": "code",
   "execution_count": null,
   "outputs": [],
   "source": [],
   "metadata": {
    "collapsed": false,
    "pycharm": {
     "name": "#%%\n"
    }
   }
  }
 ],
 "metadata": {
  "kernelspec": {
   "display_name": "Python 3",
   "language": "python",
   "name": "python3"
  },
  "language_info": {
   "codemirror_mode": {
    "name": "ipython",
    "version": 2
   },
   "file_extension": ".py",
   "mimetype": "text/x-python",
   "name": "python",
   "nbconvert_exporter": "python",
   "pygments_lexer": "ipython2",
   "version": "2.7.6"
  }
 },
 "nbformat": 4,
 "nbformat_minor": 0
}